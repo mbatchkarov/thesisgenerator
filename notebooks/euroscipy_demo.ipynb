{
 "metadata": {
  "name": "",
  "signature": "sha256:eca702cf5299952d224abea0937b1dfc34625858235e6404a3e482228e7b5571"
 },
 "nbformat": 3,
 "nbformat_minor": 0,
 "worksheets": [
  {
   "cells": [
    {
     "cell_type": "markdown",
     "metadata": {},
     "source": [
      "What are distributional models?\n",
      "===========\n",
      "<img src=\"files/img/cat_dog.png\">\n",
      "\n",
      "$$ \\overrightarrow{cat} = [1,4] $$\n",
      "$$ \\overrightarrow{dog} = [4,5] $$\n",
      "$$ \\overrightarrow{beam} = [8,2] $$\n",
      "\n",
      "Why are they useful?\n",
      "=========\n",
      " - capture the semantics of words (and phrases)\n",
      " - do not require labelled data (but can use it if available)\n",
      "\n",
      "Why `word2vec`?\n",
      "=========\n",
      " - one of **many** algorithms for building word vectors\n",
      " - does well in evaluations (more on that later)\n",
      " - the first decent and publicly available piece of software\n",
      "\n",
      "\n",
      "What is the input like?\n",
      "============\n",
      "\n",
      "`Coudert Brothers, a law firm based here, said it will open a Moscow office early next month to serve its clients' interests in the Soviet Union. Coudert will be the first foreign law firm to establish operations in Moscow, James B. Sitrick, chairman of the firm's executive committee, said.  The firm, which has 17 offices in 11 countries, said the Moscow office will be headed by Coudert lawyer Richard N. Dean. `\n",
      "\n",
      "How does `word2vec` work?\n",
      "===============\n",
      "Skip-gram model:\n",
      " - maximise $P(context|word; \\Theta)$, where $\\Theta$ are the word vectors\n",
      " - vector for each word needs to be similar to vectors of contexts it appears in, and dissimilar to other context\n",
      " - context = occur within a window of $N$ words in text"
     ]
    },
    {
     "cell_type": "code",
     "collapsed": true,
     "input": [
      "%pylab inline\n",
      "import logging\n",
      "import os\n",
      "import sys\n",
      "import re\n",
      "from operator import itemgetter\n",
      "from __future__ import division\n",
      "\n",
      "from datetime import datetime as dt\n",
      "import gensim\n",
      "import numpy as np\n",
      "from pandas import DataFrame\n",
      "from IPython.display import display, HTML\n",
      "from joblib import Memory\n",
      "from nltk.stem import WordNetLemmatizer\n",
      "\n",
      "\n",
      "# logging.basicConfig does nothing if the logger is already configured, and IPython does that\n",
      "# logger = logging.getLogger()\n",
      "# logger.handlers[0].setFormatter(logging.Formatter(\"%(asctime)s\\t%(levelname)s : %(message)s\"))\n",
      "# logger.setLevel(logging.WARNING) # suppress word2vec output"
     ],
     "language": "python",
     "metadata": {},
     "outputs": [
      {
       "output_type": "stream",
       "stream": "stdout",
       "text": [
        "Populating the interactive namespace from numpy and matplotlib\n"
       ]
      }
     ],
     "prompt_number": 1
    },
    {
     "cell_type": "markdown",
     "metadata": {},
     "source": [
      "Corpus preprocessing:\n",
      "========\n",
      " - regex tokenizer (as opposed to whitespace)\n",
      " - lowercasing"
     ]
    },
    {
     "cell_type": "code",
     "collapsed": false,
     "input": [
      "memory = Memory(cachedir='.', verbose=0)\n",
      "indir = 'wsj_clean' # 313 files of ~800KB each, 228 MB (44M words) total\n",
      "\n",
      "token_pattern = re.compile(r\"(?u)\\b\\w\\w+\\b\") # from sklearn's CountVectorizer\n",
      "class MySentences(object):\n",
      "    def __init__(self, dirname, file_limit=10**12):\n",
      "        self.dirname = dirname\n",
      "        self.file_limit = file_limit\n",
      "        self.wnl = WordNetLemmatizer()\n",
      "\n",
      "    def __iter__(self):\n",
      "        for fname in sorted(os.listdir(self.dirname))[:self.file_limit]:\n",
      "            with open(os.path.join(self.dirname, fname)) as infile:\n",
      "                for line in infile:\n",
      "                    # lowercasing!!!\n",
      "                    yield [foo.lower() for foo in token_pattern.findall(line)]"
     ],
     "language": "python",
     "metadata": {},
     "outputs": [],
     "prompt_number": 2
    },
    {
     "cell_type": "code",
     "collapsed": false,
     "input": [
      "SEED = 42\n",
      "NUM_FILES = np.arange(1, 301, 100) \n",
      "CV_FOLDS = 3\n",
      "accuracy = np.zeros((len(NUM_FILES), CV_FOLDS))\n",
      "train_time = np.zeros((len(NUM_FILES), CV_FOLDS))\n",
      "\n",
      "# learning curve on google task\n",
      "def _learning_curve(NUM_FILES, CV_FOLDS):\n",
      "    for position, file_count in enumerate(NUM_FILES):\n",
      "        for cv in range(CV_FOLDS):\n",
      "            start = dt.now()\n",
      "            logging.warning('%d file(s), CV %d', file_count, cv)\n",
      "            sentences = MySentences(indir, file_limit=file_count)\n",
      "            model = gensim.models.Word2Vec(sentences, workers=4, min_count=30, seed=SEED)\n",
      "            acc = model.accuracy('google_analogy_words.txt')[-1] # total accuracy\n",
      "            accuracy[position, cv] = float(acc['correct'])/(acc['correct'] + acc['incorrect'])\n",
      "            train_time[position, cv] = (dt.now() - start).total_seconds()\n",
      "    return accuracy, train_time, model\n",
      "\n",
      "learning_curve = memory.cache(_learning_curve)"
     ],
     "language": "python",
     "metadata": {},
     "outputs": [],
     "prompt_number": 3
    },
    {
     "cell_type": "code",
     "collapsed": false,
     "input": [
      "accuracy, train_time, model = learning_curve(NUM_FILES, CV_FOLDS)"
     ],
     "language": "python",
     "metadata": {},
     "outputs": [
      {
       "output_type": "stream",
       "stream": "stderr",
       "text": [
        "WARNING:root:1 file(s), CV 0\n"
       ]
      },
      {
       "output_type": "stream",
       "stream": "stderr",
       "text": [
        "WARNING:root:201 file(s), CV 2\n"
       ]
      }
     ],
     "prompt_number": 4
    },
    {
     "cell_type": "code",
     "collapsed": false,
     "input": [
      "plt.errorbar(NUM_FILES, train_time.mean(axis=1), yerr=train_time.std(axis=1))\n",
      "plt.xticks(NUM_FILES);\n",
      "plt.title('Model training time');\n",
      "plt.xlabel('Training files');\n",
      "plt.ylabel('Time (seconds)');\n",
      "\n",
      "plt.figure()\n",
      "plt.errorbar(NUM_FILES, accuracy.mean(axis=1), yerr=accuracy.std(axis=1))\n",
      "plt.xticks(NUM_FILES);\n",
      "plt.title('Analogy retrieval: top neighbour');\n",
      "plt.xlabel('Training files');\n",
      "plt.ylabel('Proportion correct');"
     ],
     "language": "python",
     "metadata": {},
     "outputs": [
      {
       "metadata": {},
       "output_type": "display_data",
       "png": "[encoded data removed]",
       "text": [
        "<matplotlib.figure.Figure at 0x10bf1de90>"
       ]
      },
      {
       "metadata": {},
       "output_type": "display_data",
       "png": "[encoded data removed]",
       "text": [
        "<matplotlib.figure.Figure at 0x10b9fce50>"
       ]
      }
     ],
     "prompt_number": 5
    },
    {
     "cell_type": "markdown",
     "metadata": {},
     "source": [
      "Qualitative analysis\n",
      "=========="
     ]
    },
    {
     "cell_type": "code",
     "collapsed": false,
     "input": [
      "PATTERN = 'Most similar to {} (negative = {}): <br> {}'\n",
      "def format_most_similar(positive, negative=[], topn=10):\n",
      "    data = model.most_similar(positive, negative=negative, topn=10)\n",
      "    df = DataFrame(data, columns=['word', 'sim'])\n",
      "    df.set_index('word')\n",
      "    return HTML(PATTERN.format(positive, negative, df.to_html()))"
     ],
     "language": "python",
     "metadata": {},
     "outputs": [],
     "prompt_number": 6
    },
    {
     "cell_type": "code",
     "collapsed": false,
     "input": [
      "# sample thesauri. Do they look good? Is there a way of quantifying our intuition?\n",
      "for word in ['softball', 'bank', 'rulers', 'buy', 'pretty']:\n",
      "    display(format_most_similar(word))"
     ],
     "language": "python",
     "metadata": {},
     "outputs": [
      {
       "html": [
        "Most similar to softball (negative = []): <br> <table border=\"1\" class=\"dataframe\">\n",
        "  <thead>\n",
        "    <tr style=\"text-align: right;\">\n",
        "      <th></th>\n",
        "      <th>word</th>\n",
        "      <th>sim</th>\n",
        "    </tr>\n",
        "  </thead>\n",
        "  <tbody>\n",
        "    <tr>\n",
        "      <th>0</th>\n",
        "      <td>    soccer</td>\n",
        "      <td> 0.770930</td>\n",
        "    </tr>\n",
        "    <tr>\n",
        "      <th>1</th>\n",
        "      <td>   striped</td>\n",
        "      <td> 0.764808</td>\n",
        "    </tr>\n",
        "    <tr>\n",
        "      <th>2</th>\n",
        "      <td>     disco</td>\n",
        "      <td> 0.753392</td>\n",
        "    </tr>\n",
        "    <tr>\n",
        "      <th>3</th>\n",
        "      <td>     lions</td>\n",
        "      <td> 0.745881</td>\n",
        "    </tr>\n",
        "    <tr>\n",
        "      <th>4</th>\n",
        "      <td>    slacks</td>\n",
        "      <td> 0.740597</td>\n",
        "    </tr>\n",
        "    <tr>\n",
        "      <th>5</th>\n",
        "      <td>   singers</td>\n",
        "      <td> 0.739079</td>\n",
        "    </tr>\n",
        "    <tr>\n",
        "      <th>6</th>\n",
        "      <td>     choir</td>\n",
        "      <td> 0.737409</td>\n",
        "    </tr>\n",
        "    <tr>\n",
        "      <th>7</th>\n",
        "      <td>     cello</td>\n",
        "      <td> 0.733353</td>\n",
        "    </tr>\n",
        "    <tr>\n",
        "      <th>8</th>\n",
        "      <td>   beloved</td>\n",
        "      <td> 0.733078</td>\n",
        "    </tr>\n",
        "    <tr>\n",
        "      <th>9</th>\n",
        "      <td> clutching</td>\n",
        "      <td> 0.732427</td>\n",
        "    </tr>\n",
        "  </tbody>\n",
        "</table>"
       ],
       "metadata": {},
       "output_type": "display_data",
       "text": [
        "<IPython.core.display.HTML at 0x1083e0b10>"
       ]
      },
      {
       "html": [
        "Most similar to bank (negative = []): <br> <table border=\"1\" class=\"dataframe\">\n",
        "  <thead>\n",
        "    <tr style=\"text-align: right;\">\n",
        "      <th></th>\n",
        "      <th>word</th>\n",
        "      <th>sim</th>\n",
        "    </tr>\n",
        "  </thead>\n",
        "  <tbody>\n",
        "    <tr>\n",
        "      <th>0</th>\n",
        "      <td>      banks</td>\n",
        "      <td> 0.632012</td>\n",
        "    </tr>\n",
        "    <tr>\n",
        "      <th>1</th>\n",
        "      <td>   citicorp</td>\n",
        "      <td> 0.605971</td>\n",
        "    </tr>\n",
        "    <tr>\n",
        "      <th>2</th>\n",
        "      <td>      sanwa</td>\n",
        "      <td> 0.586402</td>\n",
        "    </tr>\n",
        "    <tr>\n",
        "      <th>3</th>\n",
        "      <td>     lloyds</td>\n",
        "      <td> 0.582131</td>\n",
        "    </tr>\n",
        "    <tr>\n",
        "      <th>4</th>\n",
        "      <td>        leu</td>\n",
        "      <td> 0.579400</td>\n",
        "    </tr>\n",
        "    <tr>\n",
        "      <th>5</th>\n",
        "      <td>     bowery</td>\n",
        "      <td> 0.579107</td>\n",
        "    </tr>\n",
        "    <tr>\n",
        "      <th>6</th>\n",
        "      <td>   citibank</td>\n",
        "      <td> 0.577325</td>\n",
        "    </tr>\n",
        "    <tr>\n",
        "      <th>7</th>\n",
        "      <td>   centrust</td>\n",
        "      <td> 0.573802</td>\n",
        "    </tr>\n",
        "    <tr>\n",
        "      <th>8</th>\n",
        "      <td> depositors</td>\n",
        "      <td> 0.566312</td>\n",
        "    </tr>\n",
        "    <tr>\n",
        "      <th>9</th>\n",
        "      <td>       ncnb</td>\n",
        "      <td> 0.558435</td>\n",
        "    </tr>\n",
        "  </tbody>\n",
        "</table>"
       ],
       "metadata": {},
       "output_type": "display_data",
       "text": [
        "<IPython.core.display.HTML at 0x104832650>"
       ]
      },
      {
       "html": [
        "Most similar to rulers (negative = []): <br> <table border=\"1\" class=\"dataframe\">\n",
        "  <thead>\n",
        "    <tr style=\"text-align: right;\">\n",
        "      <th></th>\n",
        "      <th>word</th>\n",
        "      <th>sim</th>\n",
        "    </tr>\n",
        "  </thead>\n",
        "  <tbody>\n",
        "    <tr>\n",
        "      <th>0</th>\n",
        "      <td>      repressive</td>\n",
        "      <td> 0.782797</td>\n",
        "    </tr>\n",
        "    <tr>\n",
        "      <th>1</th>\n",
        "      <td>      oppression</td>\n",
        "      <td> 0.778843</td>\n",
        "    </tr>\n",
        "    <tr>\n",
        "      <th>2</th>\n",
        "      <td> revolutionaries</td>\n",
        "      <td> 0.776578</td>\n",
        "    </tr>\n",
        "    <tr>\n",
        "      <th>3</th>\n",
        "      <td>    nationalists</td>\n",
        "      <td> 0.769971</td>\n",
        "    </tr>\n",
        "    <tr>\n",
        "      <th>4</th>\n",
        "      <td>         regimes</td>\n",
        "      <td> 0.769862</td>\n",
        "    </tr>\n",
        "    <tr>\n",
        "      <th>5</th>\n",
        "      <td>        leninist</td>\n",
        "      <td> 0.768004</td>\n",
        "    </tr>\n",
        "    <tr>\n",
        "      <th>6</th>\n",
        "      <td>        radicals</td>\n",
        "      <td> 0.760079</td>\n",
        "    </tr>\n",
        "    <tr>\n",
        "      <th>7</th>\n",
        "      <td>           islam</td>\n",
        "      <td> 0.755705</td>\n",
        "    </tr>\n",
        "    <tr>\n",
        "      <th>8</th>\n",
        "      <td>      repression</td>\n",
        "      <td> 0.755332</td>\n",
        "    </tr>\n",
        "    <tr>\n",
        "      <th>9</th>\n",
        "      <td>       pluralism</td>\n",
        "      <td> 0.749541</td>\n",
        "    </tr>\n",
        "  </tbody>\n",
        "</table>"
       ],
       "metadata": {},
       "output_type": "display_data",
       "text": [
        "<IPython.core.display.HTML at 0x1112a9e10>"
       ]
      },
      {
       "html": [
        "Most similar to buy (negative = []): <br> <table border=\"1\" class=\"dataframe\">\n",
        "  <thead>\n",
        "    <tr style=\"text-align: right;\">\n",
        "      <th></th>\n",
        "      <th>word</th>\n",
        "      <th>sim</th>\n",
        "    </tr>\n",
        "  </thead>\n",
        "  <tbody>\n",
        "    <tr>\n",
        "      <th>0</th>\n",
        "      <td>              sell</td>\n",
        "      <td> 0.654965</td>\n",
        "    </tr>\n",
        "    <tr>\n",
        "      <th>1</th>\n",
        "      <td>         leveraged</td>\n",
        "      <td> 0.611867</td>\n",
        "    </tr>\n",
        "    <tr>\n",
        "      <th>2</th>\n",
        "      <td>           acquire</td>\n",
        "      <td> 0.586279</td>\n",
        "    </tr>\n",
        "    <tr>\n",
        "      <th>3</th>\n",
        "      <td>          purchase</td>\n",
        "      <td> 0.585792</td>\n",
        "    </tr>\n",
        "    <tr>\n",
        "      <th>4</th>\n",
        "      <td> recapitalizations</td>\n",
        "      <td> 0.577132</td>\n",
        "    </tr>\n",
        "    <tr>\n",
        "      <th>5</th>\n",
        "      <td>              outs</td>\n",
        "      <td> 0.576979</td>\n",
        "    </tr>\n",
        "    <tr>\n",
        "      <th>6</th>\n",
        "      <td>            buyout</td>\n",
        "      <td> 0.528057</td>\n",
        "    </tr>\n",
        "    <tr>\n",
        "      <th>7</th>\n",
        "      <td>              wipe</td>\n",
        "      <td> 0.494023</td>\n",
        "    </tr>\n",
        "    <tr>\n",
        "      <th>8</th>\n",
        "      <td>              pull</td>\n",
        "      <td> 0.490630</td>\n",
        "    </tr>\n",
        "    <tr>\n",
        "      <th>9</th>\n",
        "      <td>            resell</td>\n",
        "      <td> 0.489725</td>\n",
        "    </tr>\n",
        "  </tbody>\n",
        "</table>"
       ],
       "metadata": {},
       "output_type": "display_data",
       "text": [
        "<IPython.core.display.HTML at 0x1112a98d0>"
       ]
      },
      {
       "html": [
        "Most similar to pretty (negative = []): <br> <table border=\"1\" class=\"dataframe\">\n",
        "  <thead>\n",
        "    <tr style=\"text-align: right;\">\n",
        "      <th></th>\n",
        "      <th>word</th>\n",
        "      <th>sim</th>\n",
        "    </tr>\n",
        "  </thead>\n",
        "  <tbody>\n",
        "    <tr>\n",
        "      <th>0</th>\n",
        "      <td>       very</td>\n",
        "      <td> 0.811658</td>\n",
        "    </tr>\n",
        "    <tr>\n",
        "      <th>1</th>\n",
        "      <td>      quite</td>\n",
        "      <td> 0.761109</td>\n",
        "    </tr>\n",
        "    <tr>\n",
        "      <th>2</th>\n",
        "      <td>        too</td>\n",
        "      <td> 0.736363</td>\n",
        "    </tr>\n",
        "    <tr>\n",
        "      <th>3</th>\n",
        "      <td>   terribly</td>\n",
        "      <td> 0.675029</td>\n",
        "    </tr>\n",
        "    <tr>\n",
        "      <th>4</th>\n",
        "      <td>         so</td>\n",
        "      <td> 0.649063</td>\n",
        "    </tr>\n",
        "    <tr>\n",
        "      <th>5</th>\n",
        "      <td> definitely</td>\n",
        "      <td> 0.635256</td>\n",
        "    </tr>\n",
        "    <tr>\n",
        "      <th>6</th>\n",
        "      <td>     really</td>\n",
        "      <td> 0.628744</td>\n",
        "    </tr>\n",
        "    <tr>\n",
        "      <th>7</th>\n",
        "      <td>     fairly</td>\n",
        "      <td> 0.628410</td>\n",
        "    </tr>\n",
        "    <tr>\n",
        "      <th>8</th>\n",
        "      <td>  obviously</td>\n",
        "      <td> 0.624100</td>\n",
        "    </tr>\n",
        "    <tr>\n",
        "      <th>9</th>\n",
        "      <td>  extremely</td>\n",
        "      <td> 0.622031</td>\n",
        "    </tr>\n",
        "  </tbody>\n",
        "</table>"
       ],
       "metadata": {},
       "output_type": "display_data",
       "text": [
        "<IPython.core.display.HTML at 0x1112a9b10>"
       ]
      }
     ],
     "prompt_number": 23
    },
    {
     "cell_type": "markdown",
     "metadata": {},
     "source": [
      "Kinds of neighbours\n",
      "==========\n",
      " - synonyms (`pretty`- `very`, `really`; `buy`- `purchase`)\n",
      " - antonyms (`buy`- `sell`)\n",
      " - topically related (`bank`- `lloyds`)\n",
      " - morphological variants (`bank`- `banks`)\n",
      "     - due to our preprocessing, can be addressed with automated lemmatizers\n",
      " \n",
      "Quirks\n",
      "========\n",
      " - ignores word senses\n",
      "     - all neighbours of `bank` are finance-related\n",
      "     - nothing about river banks\n",
      "     - word sense disambiguation is hard!"
     ]
    },
    {
     "cell_type": "code",
     "collapsed": false,
     "input": [
      "def show(pos, neg):\n",
      "    display(format_most_similar(pos, negative=neg))\n",
      "    \n",
      "show(['king', 'woman'], ['man']) # queen = king-man+woman?\n",
      "show(['berlin', 'france'], ['germany']) # london\n",
      "show(['greece', 'spain'], ['athens']) # madrid"
     ],
     "language": "python",
     "metadata": {},
     "outputs": [
      {
       "html": [
        "Most similar to ['king', 'woman'] (negative = ['man']): <br> <table border=\"1\" class=\"dataframe\">\n",
        "  <thead>\n",
        "    <tr style=\"text-align: right;\">\n",
        "      <th></th>\n",
        "      <th>word</th>\n",
        "      <th>sim</th>\n",
        "    </tr>\n",
        "  </thead>\n",
        "  <tbody>\n",
        "    <tr>\n",
        "      <th>0</th>\n",
        "      <td>      burger</td>\n",
        "      <td> 0.617657</td>\n",
        "    </tr>\n",
        "    <tr>\n",
        "      <th>1</th>\n",
        "      <td>  franchisee</td>\n",
        "      <td> 0.539633</td>\n",
        "    </tr>\n",
        "    <tr>\n",
        "      <th>2</th>\n",
        "      <td>       kings</td>\n",
        "      <td> 0.535272</td>\n",
        "    </tr>\n",
        "    <tr>\n",
        "      <th>3</th>\n",
        "      <td>     playboy</td>\n",
        "      <td> 0.512639</td>\n",
        "    </tr>\n",
        "    <tr>\n",
        "      <th>4</th>\n",
        "      <td> franchisees</td>\n",
        "      <td> 0.508270</td>\n",
        "    </tr>\n",
        "    <tr>\n",
        "      <th>5</th>\n",
        "      <td> productions</td>\n",
        "      <td> 0.505369</td>\n",
        "    </tr>\n",
        "    <tr>\n",
        "      <th>6</th>\n",
        "      <td>        fahd</td>\n",
        "      <td> 0.489455</td>\n",
        "    </tr>\n",
        "    <tr>\n",
        "      <th>7</th>\n",
        "      <td>       queen</td>\n",
        "      <td> 0.487147</td>\n",
        "    </tr>\n",
        "    <tr>\n",
        "      <th>8</th>\n",
        "      <td>         fox</td>\n",
        "      <td> 0.482647</td>\n",
        "    </tr>\n",
        "    <tr>\n",
        "      <th>9</th>\n",
        "      <td>      luther</td>\n",
        "      <td> 0.475247</td>\n",
        "    </tr>\n",
        "  </tbody>\n",
        "</table>"
       ],
       "metadata": {},
       "output_type": "display_data",
       "text": [
        "<IPython.core.display.HTML at 0x10568ef10>"
       ]
      },
      {
       "html": [
        "Most similar to ['germany', 'london'] (negative = ['berlin']): <br> <table border=\"1\" class=\"dataframe\">\n",
        "  <thead>\n",
        "    <tr style=\"text-align: right;\">\n",
        "      <th></th>\n",
        "      <th>word</th>\n",
        "      <th>sim</th>\n",
        "    </tr>\n",
        "  </thead>\n",
        "  <tbody>\n",
        "    <tr>\n",
        "      <th>0</th>\n",
        "      <td>      frankfurt</td>\n",
        "      <td> 0.568929</td>\n",
        "    </tr>\n",
        "    <tr>\n",
        "      <th>1</th>\n",
        "      <td>        british</td>\n",
        "      <td> 0.547899</td>\n",
        "    </tr>\n",
        "    <tr>\n",
        "      <th>2</th>\n",
        "      <td>        britain</td>\n",
        "      <td> 0.527611</td>\n",
        "    </tr>\n",
        "    <tr>\n",
        "      <th>3</th>\n",
        "      <td>          tokyo</td>\n",
        "      <td> 0.509264</td>\n",
        "    </tr>\n",
        "    <tr>\n",
        "      <th>4</th>\n",
        "      <td>            plc</td>\n",
        "      <td> 0.498931</td>\n",
        "    </tr>\n",
        "    <tr>\n",
        "      <th>5</th>\n",
        "      <td>    switzerland</td>\n",
        "      <td> 0.491500</td>\n",
        "    </tr>\n",
        "    <tr>\n",
        "      <th>6</th>\n",
        "      <td>            ubs</td>\n",
        "      <td> 0.442518</td>\n",
        "    </tr>\n",
        "    <tr>\n",
        "      <th>7</th>\n",
        "      <td>    underpinned</td>\n",
        "      <td> 0.442515</td>\n",
        "    </tr>\n",
        "    <tr>\n",
        "      <th>8</th>\n",
        "      <td> stockbrokerage</td>\n",
        "      <td> 0.441766</td>\n",
        "    </tr>\n",
        "    <tr>\n",
        "      <th>9</th>\n",
        "      <td>          milan</td>\n",
        "      <td> 0.436295</td>\n",
        "    </tr>\n",
        "  </tbody>\n",
        "</table>"
       ],
       "metadata": {},
       "output_type": "display_data",
       "text": [
        "<IPython.core.display.HTML at 0x10bda6090>"
       ]
      },
      {
       "html": [
        "Most similar to ['madrid', 'greece'] (negative = ['athens']): <br> <table border=\"1\" class=\"dataframe\">\n",
        "  <thead>\n",
        "    <tr style=\"text-align: right;\">\n",
        "      <th></th>\n",
        "      <th>word</th>\n",
        "      <th>sim</th>\n",
        "    </tr>\n",
        "  </thead>\n",
        "  <tbody>\n",
        "    <tr>\n",
        "      <th>0</th>\n",
        "      <td>     spain</td>\n",
        "      <td> 0.650176</td>\n",
        "    </tr>\n",
        "    <tr>\n",
        "      <th>1</th>\n",
        "      <td>      suez</td>\n",
        "      <td> 0.604348</td>\n",
        "    </tr>\n",
        "    <tr>\n",
        "      <th>2</th>\n",
        "      <td>   belgium</td>\n",
        "      <td> 0.578838</td>\n",
        "    </tr>\n",
        "    <tr>\n",
        "      <th>3</th>\n",
        "      <td> venezuela</td>\n",
        "      <td> 0.565424</td>\n",
        "    </tr>\n",
        "    <tr>\n",
        "      <th>4</th>\n",
        "      <td>  belgique</td>\n",
        "      <td> 0.555219</td>\n",
        "    </tr>\n",
        "    <tr>\n",
        "      <th>5</th>\n",
        "      <td>    france</td>\n",
        "      <td> 0.552297</td>\n",
        "    </tr>\n",
        "    <tr>\n",
        "      <th>6</th>\n",
        "      <td>     facto</td>\n",
        "      <td> 0.541710</td>\n",
        "    </tr>\n",
        "    <tr>\n",
        "      <th>7</th>\n",
        "      <td>  portugal</td>\n",
        "      <td> 0.538323</td>\n",
        "    </tr>\n",
        "    <tr>\n",
        "      <th>8</th>\n",
        "      <td>    turkey</td>\n",
        "      <td> 0.537402</td>\n",
        "    </tr>\n",
        "    <tr>\n",
        "      <th>9</th>\n",
        "      <td> benedetti</td>\n",
        "      <td> 0.536325</td>\n",
        "    </tr>\n",
        "  </tbody>\n",
        "</table>"
       ],
       "metadata": {},
       "output_type": "display_data",
       "text": [
        "<IPython.core.display.HTML at 0x1112a9750>"
       ]
      }
     ],
     "prompt_number": 25
    },
    {
     "cell_type": "markdown",
     "metadata": {},
     "source": [
      "Quantitative analysis\n",
      "========="
     ]
    },
    {
     "cell_type": "markdown",
     "metadata": {},
     "source": [
      "Evaluation through feature smoothing\n",
      "=========\n",
      "\n",
      " - The best feature of distributional models is neighbour retrieval\n",
      " \n",
      " Text classification example\n",
      " ----------\n",
      " \n",
      "  - convert each training document to a vector\n",
      "  - train classifier on training matrix\n",
      "  - at decode time, ~~ignore previously unseen words~~ look up in distributional model"
     ]
    },
    {
     "cell_type": "code",
     "collapsed": false,
     "input": [
      "from sklearn.feature_extraction.text import TfidfVectorizer, CountVectorizer\n",
      "from sklearn.naive_bayes import MultinomialNB\n",
      "from sklearn.datasets import fetch_20newsgroups\n",
      "from sklearn.cross_validation import ShuffleSplit \n",
      "from sklearn.metrics import f1_score, accuracy_score\n",
      "\n",
      "categories = ['alt.atheism', 'talk.religion.misc', 'comp.graphics', 'sci.space']\n",
      "newsgroups_train = fetch_20newsgroups(subset='train', categories=categories, \n",
      "                                      remove=('headers', 'footers', 'quotes'))\n",
      "newsgroups_test = fetch_20newsgroups(subset='test', categories=categories, \n",
      "                                     remove=('headers', 'footers', 'quotes'))"
     ],
     "language": "python",
     "metadata": {},
     "outputs": [],
     "prompt_number": 9
    },
    {
     "cell_type": "code",
     "collapsed": false,
     "input": [
      "DATA_SIZES = range(30, 151, 30)\n",
      "NUM_CV = 100\n",
      "\n",
      "def _eval_classifier(DATA_SIZES, NUM_CV, newsgroups_train, newsgroups_test, vect_callable=TfidfVectorizer):\n",
      "    accuracy = np.zeros((len(DATA_SIZES), NUM_CV))\n",
      "    for i, train_size in enumerate(DATA_SIZES):\n",
      "        cv_iter = ShuffleSplit(len(newsgroups_train.data), n_iter=NUM_CV, train_size=train_size)\n",
      "        for j, (train_idx, _) in enumerate(cv_iter):\n",
      "            print('Size %d, fold %d' % (train_size, j))\n",
      "            vectorizer = vect_callable()\n",
      "            clf = MultinomialNB(alpha=.001)\n",
      "            tr = vectorizer.fit_transform(itemgetter(*train_idx)(newsgroups_train.data))\n",
      "            clf = clf.fit(tr, newsgroups_train.target[train_idx])\n",
      "            ev = vectorizer.transform(newsgroups_test.data)\n",
      "            score = accuracy_score(newsgroups_test.target, clf.predict(ev))\n",
      "            accuracy[i, j] = score\n",
      "    return accuracy\n",
      "eval_classifier = memory.cache(_eval_classifier)"
     ],
     "language": "python",
     "metadata": {},
     "outputs": [],
     "prompt_number": 22
    },
    {
     "cell_type": "code",
     "collapsed": false,
     "input": [
      "from fancy_vectorizer import DistributionalVectorizer\n",
      "from functools import partial\n",
      "\n",
      "p = partial(DistributionalVectorizer, model)\n",
      "for c, l in zip([CountVectorizer, p], ['TF-IDF', 'Distributional']):\n",
      "    accuracy =  eval_classifier(DATA_SIZES, NUM_CV, \n",
      "                                newsgroups_train,\n",
      "                                newsgroups_test, c)\n",
      "    plt.errorbar(DATA_SIZES, accuracy.mean(axis=1), \n",
      "                 yerr=np.sqrt(accuracy.std(axis=1)), label=l)\n",
      "\n",
      "plt.xticks(DATA_SIZES);\n",
      "plt.title('Classifier performance');\n",
      "plt.xlabel('Training documents');\n",
      "plt.ylabel('Accuracy');\n",
      "plt.legend(loc='lower right');"
     ],
     "language": "python",
     "metadata": {},
     "outputs": [
      {
       "output_type": "stream",
       "stream": "stdout",
       "text": [
        "Size 30, fold 0\n",
        "Size 30, fold 1"
       ]
      },
      {
       "output_type": "stream",
       "stream": "stdout",
       "text": [
        "\n",
        "Size 30, fold 2"
       ]
      },
      {
       "output_type": "stream",
       "stream": "stdout",
       "text": [
        "\n",
        "Size 30, fold 3"
       ]
      },
      {
       "output_type": "stream",
       "stream": "stdout",
       "text": [
        "\n",
        "Size 30, fold 4"
       ]
      },
      {
       "output_type": "stream",
       "stream": "stdout",
       "text": [
        "\n",
        "Size 30, fold 0"
       ]
      },
      {
       "output_type": "stream",
       "stream": "stdout",
       "text": [
        "\n",
        "Size 30, fold 1"
       ]
      },
      {
       "output_type": "stream",
       "stream": "stdout",
       "text": [
        "\n",
        "Size 30, fold 2"
       ]
      },
      {
       "output_type": "stream",
       "stream": "stdout",
       "text": [
        "\n",
        "Size 30, fold 3"
       ]
      },
      {
       "output_type": "stream",
       "stream": "stdout",
       "text": [
        "\n",
        "Size 30, fold 4"
       ]
      },
      {
       "output_type": "stream",
       "stream": "stdout",
       "text": [
        "\n",
        "Size 30, fold 5"
       ]
      },
      {
       "output_type": "stream",
       "stream": "stdout",
       "text": [
        "\n",
        "Size 30, fold 6"
       ]
      },
      {
       "output_type": "stream",
       "stream": "stdout",
       "text": [
        "\n",
        "Size 30, fold 7"
       ]
      },
      {
       "output_type": "stream",
       "stream": "stdout",
       "text": [
        "\n",
        "Size 30, fold 8"
       ]
      },
      {
       "output_type": "stream",
       "stream": "stdout",
       "text": [
        "\n",
        "Size 30, fold 9"
       ]
      },
      {
       "output_type": "stream",
       "stream": "stdout",
       "text": [
        "\n",
        "Size 30, fold 10"
       ]
      },
      {
       "output_type": "stream",
       "stream": "stdout",
       "text": [
        "\n",
        "Size 30, fold 11"
       ]
      },
      {
       "output_type": "stream",
       "stream": "stdout",
       "text": [
        "\n",
        "Size 30, fold 12"
       ]
      },
      {
       "output_type": "stream",
       "stream": "stdout",
       "text": [
        "\n",
        "Size 30, fold 13"
       ]
      },
      {
       "output_type": "stream",
       "stream": "stdout",
       "text": [
        "\n",
        "Size 30, fold 14"
       ]
      },
      {
       "output_type": "stream",
       "stream": "stdout",
       "text": [
        "\n",
        "Size 90, fold 0"
       ]
      },
      {
       "output_type": "stream",
       "stream": "stdout",
       "text": [
        "\n",
        "Size 90, fold 1"
       ]
      },
      {
       "output_type": "stream",
       "stream": "stdout",
       "text": [
        "\n",
        "Size 90, fold 2"
       ]
      },
      {
       "output_type": "stream",
       "stream": "stdout",
       "text": [
        "\n",
        "Size 90, fold 3"
       ]
      },
      {
       "output_type": "stream",
       "stream": "stdout",
       "text": [
        "\n",
        "Size 90, fold 4"
       ]
      },
      {
       "output_type": "stream",
       "stream": "stdout",
       "text": [
        "\n"
       ]
      },
      {
       "output_type": "stream",
       "stream": "stderr",
       "text": [
        "-c:6: UserWarning: Persisting input arguments took 0.57s to run.\n",
        "If this happens often in your code, it can cause performance problems \n",
        "(results will be correct in all cases). \n",
        "The reason for this is probably some large input arguments for a wrapped\n",
        " function (e.g. large strings).\n",
        "THIS IS A JOBLIB ISSUE. If you can, kindly provide the joblib's team with an\n",
        " example so that they can fix the problem.\n"
       ]
      },
      {
       "metadata": {},
       "output_type": "display_data",
       "png": "[encoded data removed]",
       "text": [
        "<matplotlib.figure.Figure at 0x100713d10>"
       ]
      }
     ],
     "prompt_number": 35
    },
    {
     "cell_type": "heading",
     "level": 1,
     "metadata": {},
     "source": [
      "Disclaimer: distributional semantics is not a silver bullet. These findings don't always hold! "
     ]
    },
    {
     "cell_type": "code",
     "collapsed": false,
     "input": [],
     "language": "python",
     "metadata": {},
     "outputs": [],
     "prompt_number": 11
    }
   ],
   "metadata": {}
  }
 ]
}