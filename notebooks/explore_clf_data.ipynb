{
 "metadata": {
  "name": ""
 },
 "nbformat": 3,
 "nbformat_minor": 0,
 "worksheets": [
  {
   "cells": [
    {
     "cell_type": "code",
     "collapsed": false,
     "input": [
      "from matplotlib.pylab import *\n",
      "import cPickle as pickle\n",
      "from discoutils.tokens import DocumentFeature, Token\n",
      "from operator import itemgetter\n",
      "import random\n",
      "from pprint import pprint\n",
      "\n",
      "font = {'size'   : 10}\n",
      "matplotlib.rc('font', **font)\n",
      "%matplotlib inline\n",
      "%cd '~/NetBeansProjects/thesisgenerator/'\n",
      "\n",
      "experiments = [104]"
     ],
     "language": "python",
     "metadata": {},
     "outputs": [
      {
       "output_type": "stream",
       "stream": "stdout",
       "text": [
        "/Volumes/LocalDataHD/mmb28/NetBeansProjects/thesisgenerator\n"
       ]
      }
     ],
     "prompt_number": 114
    },
    {
     "cell_type": "code",
     "collapsed": false,
     "input": [],
     "language": "python",
     "metadata": {},
     "outputs": []
    },
    {
     "cell_type": "code",
     "collapsed": false,
     "input": [
      "# show number of features in train and test set\n",
      "for number in experiments:\n",
      "    print 'Experiment %d' % number\n",
      "    with open('statistics/stats-exp%d-0-cv0-ev.MultinomialNB.pkl'%number) as infile:\n",
      "        b = pickle.load(infile)\n",
      "    \n",
      "    inv_voc = b.inv_voc\n",
      "        \n",
      "    position = 1\n",
      "    figure()\n",
      "    for mat, name in zip([b.tr_matrix, b.test_matrix], \n",
      "                         ['train', 'test']):\n",
      "        print '%s:' % name\n",
      "        subplot(2, 2, position)\n",
      "        counts = mat.A.sum(axis=0)\n",
      "        hist(sorted(counts)[:int(.9*len(counts))], bins=100)\n",
      "        title('Feat freq in %s set (truncated).' % name);\n",
      "        position += 1\n",
      "        \n",
      "        subplot(2, 2, position)\n",
      "        counts = mat.A.sum(axis=1)\n",
      "        hist(counts, bins=100)\n",
      "        title('#feats per doc in %s set.' % name);\n",
      "        print '#feats per doc: %1.1f +- %1.1f'%(mean(counts), std(counts))\n",
      "        print '%d/%d documents in %s set have no features'%(sum(mat.A.sum(axis=1)==0), \n",
      "                                                            mat.shape[0],\n",
      "                                                            name)\n",
      "        position += 1\n",
      "        \n",
      "    tight_layout()\n",
      "    subplots_adjust(wspace=.7)\n"
     ],
     "language": "python",
     "metadata": {},
     "outputs": [
      {
       "output_type": "stream",
       "stream": "stdout",
       "text": [
        "Experiment 104\n",
        "train:"
       ]
      },
      {
       "output_type": "stream",
       "stream": "stdout",
       "text": [
        "\n",
        "#feats per doc: 11.0 +- 5.4"
       ]
      },
      {
       "output_type": "stream",
       "stream": "stdout",
       "text": [
        "\n",
        "0/1057 documents in train set have no features\n",
        "test:\n",
        "#feats per doc: 44.2 +- 20.0"
       ]
      },
      {
       "output_type": "stream",
       "stream": "stdout",
       "text": [
        "\n",
        "0/70 documents in test set have no features\n"
       ]
      },
      {
       "metadata": {},
       "output_type": "display_data",
       "png": "[encoded data removed]",
       "text": [
        "<matplotlib.figure.Figure at 0x108d09f50>"
       ]
      }
     ],
     "prompt_number": 98
    },
    {
     "cell_type": "code",
     "collapsed": false,
     "input": [],
     "language": "python",
     "metadata": {},
     "outputs": []
    },
    {
     "cell_type": "code",
     "collapsed": false,
     "input": [
      "# show the label distribution and the predictions of the classifier\n",
      "from collections import Counter\n",
      "print 'predictions:', Counter(b.predictions)\n",
      "print 'training data:', Counter(b.y_tr)\n",
      "print 'test data:', Counter(b.y_ev)"
     ],
     "language": "python",
     "metadata": {},
     "outputs": [
      {
       "output_type": "stream",
       "stream": "stdout",
       "text": [
        "predictions: Counter({'pos': 54, 'neg': 16})\n",
        "training data: Counter({'pos': 540, 'neg': 517})\n",
        "test data: Counter({'neg': 35, 'pos': 35})\n"
       ]
      }
     ],
     "prompt_number": 99
    },
    {
     "cell_type": "code",
     "collapsed": false,
     "input": [],
     "language": "python",
     "metadata": {},
     "outputs": []
    },
    {
     "cell_type": "code",
     "collapsed": false,
     "input": [
      "# get and plot log odds score for all features. This is not a MLE, but is done through a cls and has smoothing \n",
      "def get_classificational_vectors(b):\n",
      "    feature_counts_in_tr_set = np.array(b.tr_matrix.sum(axis=0)).ravel()\n",
      "\n",
      "    voc_size = len(b.inv_voc)\n",
      "    mat = sp.lil_matrix((voc_size, voc_size))\n",
      "    mat.setdiag(np.ones((voc_size,)))\n",
      "    probabilities = b.clf.predict_log_proba(mat.tocsr())\n",
      "\n",
      "    return probabilities, b.inv_voc, feature_counts_in_tr_set\n",
      "\n",
      "from thesisgenerator.scripts.analysis.utils import *\n",
      "from discoutils.thesaurus_loader import Thesaurus\n",
      "from thesisgenerator.utils.conf_file_utils import *\n",
      "from thesisgenerator.utils.data_utils import *\n",
      "from thesisgenerator.scripts.analysis.signified_internals_analysis import get_log_odds\n",
      "\n",
      "conf, configspec_file = parse_config_file('conf/exp{0}/exp{0}_base.conf'.format(number))\n",
      "\n",
      "logging.info('Preparing thesaurus')\n",
      "thes_shelf = load_and_shelve_thesaurus(conf['vector_sources']['unigram_paths'],\n",
      "                                     conf['vector_sources']['sim_threshold'],\n",
      "                                     conf['vector_sources']['include_self'],\n",
      "                                     conf['vector_sources']['allow_lexical_overlap'],\n",
      "                                     conf['vector_sources']['max_neighbours'],\n",
      "                                     ContainsEverything())\n",
      "    \n",
      "thes = Thesaurus.from_shelf_readonly(thes_shelf)\n",
      "all_clf_vect, full_inv_voc, all_feature_counts = get_classificational_vectors(b)\n",
      "good_clf_vect, good_inv_voc = get_good_vectors(all_clf_vect,\n",
      "                                               all_feature_counts,\n",
      "                                               2, \n",
      "                                               full_inv_voc,\n",
      "                                               thes)\n",
      "log_odds = get_log_odds(good_clf_vect, good_inv_voc)\n",
      "hist(log_odds.values());"
     ],
     "language": "python",
     "metadata": {},
     "outputs": [
      {
       "metadata": {},
       "output_type": "display_data",
       "png": "[encoded data removed]",
       "text": [
        "<matplotlib.figure.Figure at 0x10bd35f10>"
       ]
      }
     ],
     "prompt_number": 106
    },
    {
     "cell_type": "code",
     "collapsed": false,
     "input": [],
     "language": "python",
     "metadata": {},
     "outputs": []
    },
    {
     "cell_type": "code",
     "collapsed": false,
     "input": [
      "# what are the term counts of a feature that has a very high log odds score?\n",
      "sorted_feats_with_scores = sorted(list(log_odds.items()), key=itemgetter(1))\n",
      "for feat, score in random.sample(sorted_feats_with_scores, 10):#[:10] + sorted_feats_with_scores[-10:]:\n",
      "    print 'Feature:', feat, 'log odds =', score\n",
      "    voc = {v:k for k,v in b.inv_voc.items()}\n",
      "    idx = voc[feat]\n",
      "    all_counts = b.tr_matrix.A[:, idx]\n",
      "    class0 = b.y_tr == 'earn'\n",
      "    class1 = b.y_tr == 'not-earn'\n",
      "    print '\\t Occurs in %d (%d + %d)' % (sum(all_counts>0), sum(all_counts[class0]), sum(all_counts[class1]))"
     ],
     "language": "python",
     "metadata": {},
     "outputs": [
      {
       "output_type": "stream",
       "stream": "stdout",
       "text": [
        "Feature: NN:(world/N, war/N) log odds = -0.882326266504\n",
        "\t Occurs in 17 (0 + 0)\n",
        "Feature: AN:(dark/J, city/N) log odds = -3.1840761268\n",
        "\t Occurs in 12 (0 + 0)\n",
        "Feature: NN:(entertainment/N, value/N) log odds = 1.65085322337\n",
        "\t Occurs in 11 (0 + 0)\n",
        "Feature: AN:(dramatic/J, moment/N) log odds = -1.1052413437\n",
        "\t Occurs in 9 (0 + 0)\n",
        "Feature: AN:(female/J, character/N) log odds = 1.93809121837\n",
        "\t Occurs in 7 (0 + 0)\n",
        "Feature: NN:(video/N, game/N) log odds = 2.71119137394\n",
        "\t Occurs in 10 (0 + 0)\n",
        "Feature: AN:(funny/J, movie/N) log odds = -1.23875488157\n",
        "\t Occurs in 10 (0 + 0)\n",
        "Feature: AN:(excellent/J, performance/N) log odds = -1.35652402998\n",
        "\t Occurs in 11 (0 + 0)\n",
        "Feature: AN:(bad/J, dialogue/N) log odds = 2.09264629673\n",
        "\t Occurs in 15 (0 + 0)\n",
        "Feature: AN:(strong/J, performance/N) log odds = -1.2388798165\n",
        "\t Occurs in 15 (0 + 0)\n"
       ]
      }
     ],
     "prompt_number": 107
    },
    {
     "cell_type": "code",
     "collapsed": false,
     "input": [],
     "language": "python",
     "metadata": {},
     "outputs": []
    },
    {
     "cell_type": "code",
     "collapsed": false,
     "input": [
      "# parse log files and find entries that occurs in several thesauri to compare their neighbours\n",
      "from collections import defaultdict\n",
      "import re\n",
      "\n",
      "d = dict()\n",
      "scores = defaultdict(list)\n",
      "for n in experiments:\n",
      "    with open('figures/stats_output%d.txt'%n) as infile:\n",
      "        lines = [line.split('\\t')[-1][3:] for line in infile.readlines()]\n",
      "    for i, line in enumerate(lines):\n",
      "        if 'random sample of reliable features' in line:\n",
      "            start = i + 1\n",
      "        if 'Most informative features' in line:\n",
      "            end = i - 3\n",
      "    print start, end\n",
      "    for line in lines[start:end]:\n",
      "        score = float(re.findall('score=([0-9\\.\\-]+)', line)[0])\n",
      "        entry = line.split()[0]\n",
      "        neigh = eval(line.split(' -> ')[-1])\n",
      "        d[(n, entry)] = neigh\n",
      "        scores[entry].append(score)\n",
      "\n",
      "entries = set(x[1] for x in d)\n",
      "matching = []\n",
      "for entry in entries:\n",
      "    if all([(n, entry) in d for n in experiments]):\n",
      "        matching.append(entry)\n",
      "        \n",
      "print len(d), len(entries), len(matching)\n",
      "\n",
      "for entry in matching:\n",
      "    print entry, scores[entry], ':'\n",
      "    for n in experiments:\n",
      "        neigh = d[(n, entry)]\n",
      "        print '\\texp%d : %s (total %.2f)' %(n, neigh, sum(x[1] for x in neigh))\n",
      "    print '--------------'"
     ],
     "language": "python",
     "metadata": {},
     "outputs": [
      {
       "output_type": "stream",
       "stream": "stdout",
       "text": [
        "55 79\n",
        "24 24 24\n",
        "entertaining/J_film/N [-1.3] :\n",
        "\texp104 : [('funny/J_movie/N', -1.39), ('bad/J_movie/N', 1.97), ('best/J_movie/N', -1.3)] (total -0.72)\n",
        "--------------\n",
        "bad/J_movie/N [1.97] :\n",
        "\texp104 : [('best/J_film/N', -1.61), ('great/J_actor/N', 1.01), ('great/J_job/N', -1.16)] (total -1.76)\n",
        "--------------\n",
        "action/N_hero/N [1.7] :\n",
        "\texp104 : [('security/N_guard/N', 0.98)] (total 0.98)\n",
        "--------------\n",
        "world/N_war/N [-1.18] :\n",
        "\texp104 : [('security/N_guard/N', 0.98)] (total 0.98)\n",
        "--------------\n",
        "crew/N_member/N [1.39] :\n",
        "\texp104 : [('worst/J_movie/N', 1.1), ('star/N_war/N', -1.03)] (total 0.07)\n",
        "--------------\n",
        "great/J_actor/N [1.01] :\n",
        "\texp104 : [('bad/J_movie/N', 1.97), ('bad/J_film/N', 1.67), ('best/J_movie/N', -1.3)] (total 2.34)\n",
        "--------------\n",
        "entertainment/N_value/N [1.5] :\n",
        "\texp104 : [('digital/J_effect/N', 1.25)] (total 1.25)\n",
        "--------------\n",
        "entire/J_life/N [-1.87] :\n",
        "\texp104 : [('best/J_film/N', -1.61), ('worst/J_film/N', 1.25)] (total -0.36)\n",
        "--------------\n",
        "best/J_film/N [-1.61] :\n",
        "\texp104 : [('worst/J_movie/N', 1.1), ('bad/J_movie/N', 1.97), ('character/N_study/N', -1.54)] (total 1.53)\n",
        "--------------\n",
        "fine/J_performance/N [-2.3] :\n",
        "\texp104 : [('great/J_job/N', -1.16)] (total -1.16)\n",
        "--------------\n",
        "video/N_game/N [2.2] :\n",
        "\texp104 : [('character/N_study/N', -1.54)] (total -1.54)\n",
        "--------------\n",
        "funny/J_movie/N [-1.39] :\n",
        "\texp104 : [('entertaining/J_film/N', -1.3), ('bad/J_film/N', 1.67), ('best/J_film/N', -1.61)] (total -1.24)\n",
        "--------------\n",
        "bad/J_film/N [1.67] :\n",
        "\texp104 : [('best/J_movie/N', -1.3), ('great/J_actor/N', 1.01)] (total -0.29)\n",
        "--------------\n",
        "nice/J_touch/N [-1.39] :\n",
        "\texp104 : [('bad/J_film/N', 1.67), ('great/J_thing/N', -1.7)] (total -0.03)\n",
        "--------------\n",
        "right/J_thing/N [-2.2] :\n",
        "\texp104 : [('title/N_character/N', -2.64)] (total -2.64)\n",
        "--------------\n",
        "worst/J_film/N [1.25] :\n",
        "\texp104 : [('best/J_movie/N', -1.3), ('bad/J_movie/N', 1.97)] (total 0.67)\n",
        "--------------\n",
        "dark/J_city/N [-2.4] :\n",
        "\texp104 : [('red/J_planet/N', 2.56), ('worst/J_movie/N', 1.1)] (total 3.66)\n",
        "--------------\n",
        "worst/J_movie/N [1.1] :\n",
        "\texp104 : [('best/J_film/N', -1.61)] (total -1.61)\n",
        "--------------\n",
        "character/N_study/N [-1.54] :\n",
        "\texp104 : [('best/J_movie/N', -1.3)] (total -1.30)\n",
        "--------------\n",
        "star/N_war/N [-1.03] :\n",
        "\texp104 : [('crew/N_member/N', 1.39)] (total 1.39)\n",
        "--------------\n",
        "great/J_job/N [-1.16] :\n",
        "\texp104 : [('bad/J_movie/N', 1.97), ('strong/J_performance/N', -1.39)] (total 0.58)\n",
        "--------------\n",
        "digital/J_effect/N [1.25] :\n",
        "\texp104 : [('entertainment/N_value/N', 1.5)] (total 1.50)\n",
        "--------------\n",
        "best/J_movie/N [-1.3] :\n",
        "\texp104 : [('worst/J_film/N', 1.25), ('bad/J_film/N', 1.67), ('character/N_study/N', -1.54)] (total 1.38)\n",
        "--------------\n",
        "title/N_character/N [-2.64] :\n",
        "\texp104 : [('right/J_thing/N', -2.2)] (total -2.20)\n",
        "--------------\n"
       ]
      }
     ],
     "prompt_number": 102
    },
    {
     "cell_type": "code",
     "collapsed": false,
     "input": [],
     "language": "python",
     "metadata": {},
     "outputs": []
    },
    {
     "cell_type": "code",
     "collapsed": false,
     "input": [
      "# what is the feature distribution like\n",
      "plt.scatter(range(len(b.y_ev)), [ord(foo[0]) for foo in b.y_ev])\n",
      "mat = b.test_matrix#[:, 450:]\n",
      "plt.matshow(np.log(mat.A+.00001))\n",
      "# plt.savefig('trdata.png', format='png', dpi=600)\n",
      "counts = mat.sum(axis=0).A1\n",
      "most_common = np.argsort(-counts)[:20] # in decreasing order\n",
      "print 'Indices of most common features:', most_common\n",
      "print 'Most common feats and their freq:'\n",
      "pprint({b.inv_voc[foo]:counts[foo] for foo in most_common}, indent=4)\n"
     ],
     "language": "python",
     "metadata": {},
     "outputs": [
      {
       "output_type": "stream",
       "stream": "stdout",
       "text": [
        "Indices of most common features: [503 470 469 487 494 498 484 477 496 471 472 522 491 468 521 507 499 485\n",
        " 490 495]\n",
        "Most common feats and their freq:\n",
        "{   AN:(bad/J, dialogue/N): 76.0,\n",
        "    AN:(bad/J, film/N): 159.0,\n",
        "    AN:(bad/J, movie/N): 172.0,\n",
        "    AN:(best/J, film/N): 85.0,\n",
        "    AN:(best/J, movie/N): 84.0,\n",
        "    AN:(dramatic/J, moment/N): 104.0,\n",
        "    AN:(funny/J, movie/N): 105.0,\n",
        "    AN:(great/J, actor/N): 71.0,\n",
        "    AN:(great/J, thing/N): 143.0,\n",
        "    AN:(main/J, problem/N): 67.0,\n",
        "    AN:(nice/J, touch/N): 80.0,\n",
        "    AN:(red/J, planet/N): 117.0,\n",
        "    AN:(right/J, note/N): 61.0,\n",
        "    AN:(right/J, thing/N): 103.0,\n",
        "    AN:(worst/J, film/N): 106.0,\n",
        "    AN:(worst/J, movie/N): 72.0,\n",
        "    NN:(character/N, study/N): 266.0,\n",
        "    NN:(fairy/N, tale/N): 75.0,\n",
        "    NN:(star/N, war/N): 75.0,\n",
        "    NN:(time/N, period/N): 81.0}\n"
       ]
      },
      {
       "metadata": {},
       "output_type": "display_data",
       "png": "[encoded data removed]",
       "text": [
        "<matplotlib.figure.Figure at 0x10b05edd0>"
       ]
      },
      {
       "metadata": {},
       "output_type": "display_data",
       "png": "[encoded data removed]",
       "text": [
        "<matplotlib.figure.Figure at 0x10d4a20d0>"
       ]
      }
     ],
     "prompt_number": 130
    },
    {
     "cell_type": "code",
     "collapsed": false,
     "input": [],
     "language": "python",
     "metadata": {},
     "outputs": []
    }
   ],
   "metadata": {}
  }
 ]
}