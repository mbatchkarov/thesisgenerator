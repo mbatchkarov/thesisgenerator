{
 "metadata": {
  "name": ""
 },
 "nbformat": 3,
 "nbformat_minor": 0,
 "worksheets": [
  {
   "cells": [
    {
     "cell_type": "code",
     "collapsed": false,
     "input": [
      "import matplotlib\n",
      "matplotlib.rc('font', size=10)\n",
      "import cPickle as pickle\n",
      "from glob import glob\n",
      "from thesisgenerator.scripts.analysis.utils import *\n",
      "from discoutils.thesaurus_loader import Thesaurus\n",
      "from thesisgenerator.utils.conf_file_utils import *\n",
      "from thesisgenerator.utils.data_utils import *\n",
      "from thesisgenerator.scripts.analysis.signified_internals_analysis import get_log_odds\n",
      "from matplotlib.pylab import *\n",
      "from discoutils.tokens import *\n",
      "import random\n",
      "%matplotlib inline\n",
      "%cd '~/NetBeansProjects/thesisgenerator/'\n"
     ],
     "language": "python",
     "metadata": {},
     "outputs": [
      {
       "output_type": "stream",
       "stream": "stdout",
       "text": [
        "/Volumes/LocalDataHD/mmb28/NetBeansProjects/thesisgenerator\n"
       ]
      }
     ],
     "prompt_number": 21
    },
    {
     "cell_type": "code",
     "collapsed": false,
     "input": [],
     "language": "python",
     "metadata": {},
     "outputs": []
    },
    {
     "cell_type": "code",
     "collapsed": false,
     "input": [
      "types = {'AN':'NP', 'NN':'NP', '1-GRAM':'UNI'}\n",
      "same_entry_type = []\n",
      "for thes_shelf in glob('shelf*')[:2]:\n",
      "    print thes_shelf\n",
      "    thes = Thesaurus.from_shelf_readonly(thes_shelf)\n",
      "    for entry in random.sample(thes.keys(), 10):\n",
      "        feat_type = types[DocumentFeature.from_string(entry).type]\n",
      "        same_neigh = sum(types[DocumentFeature.from_string(n).type]==feat_type for n,_ in thes[entry])\n",
      "        same_entry_type.append(same_neigh/float(len(neigh)))\n",
      "    print mean(same_entry_type)"
     ],
     "language": "python",
     "metadata": {},
     "outputs": [
      {
       "output_type": "stream",
       "stream": "stdout",
       "text": [
        "shelf-1125070994695518224\n",
        "0.771428571429\n",
        "shelf-2228025193730978946\n",
        "3.33571428571\n"
       ]
      }
     ],
     "prompt_number": 22
    },
    {
     "cell_type": "code",
     "collapsed": false,
     "input": [],
     "language": "python",
     "metadata": {},
     "outputs": []
    }
   ],
   "metadata": {}
  }
 ]
}