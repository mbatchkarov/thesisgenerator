{
 "metadata": {
  "name": "",
  "signature": "sha256:7bca7d4c148ee2cae2e762ff13f224e820cc8f8100c020526b329107d7e38406"
 },
 "nbformat": 3,
 "nbformat_minor": 0,
 "worksheets": [
  {
   "cells": [
    {
     "cell_type": "code",
     "collapsed": false,
     "input": [
      "from discoutils.thesaurus_loader import Vectors\n",
      "from random import sample\n",
      "import numpy as np"
     ],
     "language": "python",
     "metadata": {},
     "outputs": [],
     "prompt_number": 1
    },
    {
     "cell_type": "code",
     "collapsed": false,
     "input": [
      "v = Vectors.from_tsv('/mnt/lustre/scratch/inf/mmb28/FeatureExtractionToolkit/observed_vectors/gigaw_NPs_wins_observed')\n",
      "keys = sample(sorted(v.keys()), 10)\n",
      "data = v._obj"
     ],
     "language": "python",
     "metadata": {},
     "outputs": [],
     "prompt_number": 2
    },
    {
     "cell_type": "code",
     "collapsed": false,
     "input": [
      "for n in np.arange(0, 1.5, .1):\n",
      "    v = Vectors(data, noise=n)\n",
      "    v.init_sims(n_neighbors=2)\n",
      "    for k in keys[:3]:\n",
      "#         print(v.get_vector(k).data[:3])\n",
      "        print(v.get_nearest_neighbours(k))\n",
      "    print('___________________________________%.1f'%n)"
     ],
     "language": "python",
     "metadata": {},
     "outputs": [
      {
       "output_type": "stream",
       "stream": "stdout",
       "text": [
        "[('regional/J_concern/N', 10.583005244258363), ('korean/J_capital/N', 13.820274961085254)]\n",
        "[('rival/J_bidder/N', 10.198039027185569), ('aide/N_memoire/N', 10.535653752852738)]\n",
        "[('moral/J_education/N', 13.564659966250536), ('character/N_education/N', 13.711309200802088)]\n",
        "___________________________________0.0\n",
        "[('regional/J_concern/N', 10.523876613255334), ('20th/J_century/N', 14.170056476757381)]"
       ]
      },
      {
       "output_type": "stream",
       "stream": "stdout",
       "text": [
        "\n",
        "[('rival/J_bidder/N', 10.294510081557938), ('french/N_cross/N', 10.492279465820724)]\n",
        "[('moral/J_education/N', 13.459740689186253), ('character/N_education/N', 14.109932224671089)]\n",
        "___________________________________0.1\n",
        "[('regional/J_concern/N', 11.172931303394053), ('korean/J_capital/N', 14.022240141618552)]"
       ]
      },
      {
       "output_type": "stream",
       "stream": "stdout",
       "text": [
        "\n",
        "[('rival/J_bidder/N', 10.659917271274752), ('french/N_cross/N', 10.676717082712113)]\n",
        "[('moral/J_education/N', 13.438321585182356), ('character/N_education/N', 13.662276874601286)]\n",
        "___________________________________0.2\n",
        "[('regional/J_concern/N', 10.24036486174618), ('20th/J_century/N', 14.546676905876986)]"
       ]
      },
      {
       "output_type": "stream",
       "stream": "stdout",
       "text": [
        "\n",
        "[('french/N_cross/N', 9.7991108030175731), ('rival/J_bidder/N', 9.9378217438964178)]\n",
        "[('moral/J_education/N', 13.822875964983762), ('character/N_education/N', 13.851178173273787)]\n",
        "___________________________________0.3\n",
        "[('regional/J_concern/N', 10.438983449944232), ('red/N_army/N', 14.115570786542719)]"
       ]
      },
      {
       "output_type": "stream",
       "stream": "stdout",
       "text": [
        "\n",
        "[('rival/J_bidder/N', 10.547398869420052), ('angolan/J_army/N', 10.699512843801507)]\n",
        "[('character/N_education/N', 14.896332212421607), ('auto/N_stock/N', 15.020600333337935)]\n",
        "___________________________________0.4\n",
        "[('regional/J_concern/N', 12.943890941210725), ('separatist/N_group/N', 14.084707190013326)]"
       ]
      },
      {
       "output_type": "stream",
       "stream": "stdout",
       "text": [
        "\n",
        "[('abdul/N_attwan/N', 9.3989359084014747), ('second/J_seed/N', 9.5659480142093827)]\n",
        "[('moral/J_education/N', 14.301058989651214), ('character/N_education/N', 14.3012861953256)]\n",
        "___________________________________0.5\n",
        "[('regional/J_concern/N', 12.634985461680195), ('strong/J_sale/N', 15.319717347399436)]"
       ]
      },
      {
       "output_type": "stream",
       "stream": "stdout",
       "text": [
        "\n",
        "[('austrian/J_government/N', 11.914176632448722), ('aide/N_memoire/N', 12.231506317473897)]\n",
        "[('moral/J_education/N', 14.564678616259792), ('character/N_education/N', 16.998710649457337)]\n",
        "___________________________________0.6\n",
        "[('korean/J_capital/N', 15.091369489067674), ('regional/J_concern/N', 15.123679174398752)]"
       ]
      },
      {
       "output_type": "stream",
       "stream": "stdout",
       "text": [
        "\n",
        "[('igor/N_zhdanov/N', 13.328064837023824), ('abdul/N_attwan/N', 13.511694062871477)]\n",
        "[('moral/J_education/N', 15.653038947922999), ('character/N_education/N', 15.914414866569158)]\n",
        "___________________________________0.7\n",
        "[('regional/J_concern/N', 12.485227931363527), ('latest/J_death/N', 15.131950927150484)]"
       ]
      },
      {
       "output_type": "stream",
       "stream": "stdout",
       "text": [
        "\n",
        "[('greek/J_military/N', 14.936933743796887), ('superintendent/N_olmedo/N', 15.164308219589611)]\n",
        "[('character/N_education/N', 13.891739467593723), ('consumer/N_inflation/N', 15.165342426605831)]\n",
        "___________________________________0.8\n",
        "[('arab/N_government/N', 14.397954304506129), ('regional/J_concern/N', 14.554940913038282)]"
       ]
      },
      {
       "output_type": "stream",
       "stream": "stdout",
       "text": [
        "\n",
        "[('historic/J_root/N', 11.565251726466276), ('angolan/J_army/N', 12.247515337412883)]\n",
        "[('character/N_education/N', 17.503683496407056), ('software/N_stock/N', 18.494083878990534)]\n",
        "___________________________________0.9\n",
        "[('latest/J_company/N', 16.365794283325439), ('kuwait/N_pledge/N', 16.492373402317302)]"
       ]
      },
      {
       "output_type": "stream",
       "stream": "stdout",
       "text": [
        "\n",
        "[('deputy/N_secretary/N', 14.901547864836536), ('jordanian/J_citizen/N', 15.198740323997422)]\n",
        "[('character/N_education/N', 15.141752048879567), ('african/J_resident/N', 16.617549198358279)]\n",
        "___________________________________1.0\n",
        "[('regional/J_concern/N', 14.19280541902776), ('non-aggression/J_pact/N', 15.728076534793772)]"
       ]
      },
      {
       "output_type": "stream",
       "stream": "stdout",
       "text": [
        "\n",
        "[('information/N_center/N', 16.009324971306054), ('deputy/N_secretary/N', 16.181913619380946)]\n",
        "[('character/N_education/N', 16.166280645489188), ('moral/J_education/N', 17.019380810369121)]\n",
        "___________________________________1.1\n",
        "[('regional/J_concern/N', 15.031743322071966), ('latest/J_death/N', 15.865727897726622)]"
       ]
      },
      {
       "output_type": "stream",
       "stream": "stdout",
       "text": [
        "\n",
        "[('lindsay/N_hoyle/N', 15.636744228258666), ('unchanged/J_percent/N', 16.289881749966398)]\n",
        "[('consumer/N_inflation/N', 18.242115103042632), ('foreign/J_dignitary/N', 18.24398485451691)]\n",
        "___________________________________1.2\n",
        "[('parental/J_irresponsibility/N', 18.05513687237907), ('parliamentary/J_poll/N', 18.642022529655101)]"
       ]
      },
      {
       "output_type": "stream",
       "stream": "stdout",
       "text": [
        "\n",
        "[('northwestern/J_suburb/N', 14.562163564174949), ('m5/N_motorway/N', 15.01480954820763)]\n",
        "[('price/N_inflation/N', 16.076834826303234), ('official/N_source/N', 17.99909799422274)]\n",
        "___________________________________1.3\n",
        "[('regional/J_concern/N', 19.995329756479084), ('big/J_development/N', 22.019376016725179)]"
       ]
      },
      {
       "output_type": "stream",
       "stream": "stdout",
       "text": [
        "\n",
        "[('ftse/N_index/N', 19.499259471511511), ('march/N_poll/N', 19.506091587620041)]\n",
        "[('character/N_education/N', 14.996807399202314), ('hamburg/N_prosecutor/N', 20.298206150370568)]\n",
        "___________________________________1.4\n"
       ]
      }
     ],
     "prompt_number": 4
    },
    {
     "cell_type": "code",
     "collapsed": false,
     "input": [
      "from matplotlib import pylab as plt\n",
      "%matplotlib inline\n",
      "plt.hist(v.matrix.data, bins=100);"
     ],
     "language": "python",
     "metadata": {},
     "outputs": [
      {
       "metadata": {},
       "output_type": "display_data",
       "png": "[encoded data removed]",
       "text": [
        "<matplotlib.figure.Figure at 0x10d99ef50>"
       ]
      }
     ],
     "prompt_number": 4
    },
    {
     "cell_type": "code",
     "collapsed": false,
     "input": [
      "v.matrix.data.mean()"
     ],
     "language": "python",
     "metadata": {},
     "outputs": [
      {
       "metadata": {},
       "output_type": "pyout",
       "prompt_number": 5,
       "text": [
        "3.7896401161880076"
       ]
      }
     ],
     "prompt_number": 5
    },
    {
     "cell_type": "code",
     "collapsed": false,
     "input": [
      "np.arange(.2, 2.1, .2)"
     ],
     "language": "python",
     "metadata": {},
     "outputs": [
      {
       "metadata": {},
       "output_type": "pyout",
       "prompt_number": 6,
       "text": [
        "array([ 0.2,  0.4,  0.6,  0.8,  1. ,  1.2,  1.4,  1.6,  1.8,  2. ])"
       ]
      }
     ],
     "prompt_number": 6
    },
    {
     "cell_type": "code",
     "collapsed": false,
     "input": [],
     "language": "python",
     "metadata": {},
     "outputs": []
    }
   ],
   "metadata": {}
  }
 ]
}