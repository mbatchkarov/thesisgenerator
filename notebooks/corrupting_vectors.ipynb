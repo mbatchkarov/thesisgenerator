{
 "metadata": {
  "name": "",
  "signature": "sha256:9dd2f978b2352d0ea12ede6f667adb5b684d65a61e24eeaf723dfbcd9013b5e8"
 },
 "nbformat": 3,
 "nbformat_minor": 0,
 "worksheets": [
  {
   "cells": [
    {
     "cell_type": "code",
     "collapsed": false,
     "input": [
      "from discoutils.thesaurus_loader import Vectors\n",
      "from random import sample\n",
      "import numpy as np"
     ],
     "language": "python",
     "metadata": {},
     "outputs": [],
     "prompt_number": 1
    },
    {
     "cell_type": "code",
     "collapsed": false,
     "input": [
      "v = Vectors.from_tsv('/mnt/lustre/scratch/inf/mmb28/FeatureExtractionToolkit/observed_vectors/gigaw_NPs_wins_observed')\n",
      "keys = sample(sorted(v.keys()), 10)\n",
      "data = v._obj"
     ],
     "language": "python",
     "metadata": {},
     "outputs": [],
     "prompt_number": 2
    },
    {
     "cell_type": "code",
     "collapsed": false,
     "input": [
      "for n in np.arange(0, 1.5, .1):\n",
      "    v = Vectors(data, noise=n)\n",
      "    v.init_sims(n_neighbors=2)\n",
      "    for k in keys[:3]:\n",
      "#         print(v.get_vector(k).data[:3])\n",
      "        print(v.get_nearest_neighbours(k))\n",
      "    print('___________________________________')"
     ],
     "language": "python",
     "metadata": {},
     "outputs": [
      {
       "output_type": "stream",
       "stream": "stdout",
       "text": [
        "[('public/J_gathering/N', 34.84250278036869), ('critical/J_condition/N', 35.454195802471673)]\n",
        "[('service/N_provider/N', 14.352700094407323), ('research/N_institute/N', 15.231546211727817)]\n",
        "[('security/N_act/N', 33.645207682521445), ('public/N_order/N', 36.537651812890218)]\n",
        "___________________________________\n",
        "Adding noise from -0.37940925223027544 to +0.37940925223027544"
       ]
      },
      {
       "output_type": "stream",
       "stream": "stdout",
       "text": [
        "\n",
        "[('public/J_gathering/N', 34.884423297434651), ('critical/J_condition/N', 35.135120593553673)]\n",
        "[('service/N_provider/N', 14.5774626970529), ('research/N_institute/N', 15.103370306259912)]\n",
        "[('security/N_act/N', 33.857733190978543), ('public/N_order/N', 36.405759801114286)]\n",
        "___________________________________\n",
        "Adding noise from -0.7588185044605509 to +0.7588185044605509"
       ]
      },
      {
       "output_type": "stream",
       "stream": "stdout",
       "text": [
        "\n",
        "[('major/J_sale/N', 35.88727647833948), ('public/J_gathering/N', 36.064045287582701)]\n",
        "[('service/N_provider/N', 14.454590120513419), ('research/N_institute/N', 14.762771354877282)]\n",
        "[('security/N_act/N', 34.659918243858982), ('public/N_order/N', 37.490768107742944)]\n",
        "___________________________________\n",
        "Adding noise from -1.1382277566908263 to +1.1382277566908263"
       ]
      },
      {
       "output_type": "stream",
       "stream": "stdout",
       "text": [
        "\n",
        "[('public/J_gathering/N', 35.393443667153996), ('police/N_custody/N', 35.409943697285215)]\n",
        "[('igor/N_zhdanov/N', 15.691685713147475), ('service/N_provider/N', 16.255688743733252)]\n",
        "[('security/N_act/N', 33.914719852239124), ('public/N_order/N', 37.515691563784983)]\n",
        "___________________________________\n",
        "Adding noise from -1.5176370089211018 to +1.5176370089211018"
       ]
      },
      {
       "output_type": "stream",
       "stream": "stdout",
       "text": [
        "\n",
        "[('long/J_time/N', 36.448474832515096), ('lengthy/J_period/N', 36.47204524222434)]\n",
        "[('service/N_provider/N', 14.689403628586689), ('news/N_report/N', 15.067760112016828)]\n",
        "[('security/N_act/N', 36.824993445557539), ('public/N_order/N', 38.795614765174101)]\n",
        "___________________________________\n",
        "Adding noise from -1.897046261151377 to +1.897046261151377"
       ]
      },
      {
       "output_type": "stream",
       "stream": "stdout",
       "text": [
        "\n",
        "[('public/J_gathering/N', 36.633417369415788), ('military/J_police/N', 36.75189207373279)]\n",
        "[('igor/N_zhdanov/N', 16.669768826541141), ('separate/J_appeal/N', 16.790957399604594)]\n",
        "[('security/N_act/N', 35.657522761395711), ('public/N_order/N', 38.51973911098483)]\n",
        "___________________________________\n",
        "Adding noise from -2.2764555133816526 to +2.2764555133816526"
       ]
      },
      {
       "output_type": "stream",
       "stream": "stdout",
       "text": [
        "\n",
        "[('lengthy/J_period/N', 38.756785832102594), ('desperate/J_need/N', 38.978697361915067)]\n",
        "[('good/J_thing/N', 17.961349541826504), ('service/N_provider/N', 18.143749899261213)]\n",
        "[('security/N_act/N', 38.211195199941209), ('public/N_order/N', 40.342569454846441)]\n",
        "___________________________________\n",
        "Adding noise from -2.655864765611928 to +2.655864765611928"
       ]
      },
      {
       "output_type": "stream",
       "stream": "stdout",
       "text": [
        "\n",
        "[('public/J_gathering/N', 36.989656079832542), ('long/J_time/N', 37.157184255135405)]\n",
        "[('news/N_report/N', 15.774962600591866), ('research/N_institute/N', 16.223366162419087)]\n",
        "[('security/N_act/N', 37.652994132365336), ('public/N_order/N', 40.580004893737055)]\n",
        "___________________________________\n",
        "Adding noise from -3.0352740178422035 to +3.0352740178422035"
       ]
      },
      {
       "output_type": "stream",
       "stream": "stdout",
       "text": [
        "\n",
        "[('major/J_sale/N', 38.755779843967574), ('critical/J_condition/N', 38.834727346414795)]\n",
        "[('younger/J_sibling/N', 19.152387988541857), ('new/J_authority/N', 19.250000735620077)]\n",
        "[('security/N_act/N', 37.528213492862527), ('israeli/J_people/N', 40.000298791146321)]\n",
        "___________________________________\n",
        "Adding noise from -3.4146832700724787 to +3.4146832700724787"
       ]
      },
      {
       "output_type": "stream",
       "stream": "stdout",
       "text": [
        "\n",
        "[('lengthy/J_period/N', 36.575357669604784), ('desperate/J_need/N', 37.3523699295759)]\n",
        "[('korean/J_contract/N', 17.433653575595017), ('china/N_daily/N', 17.609803267331653)]\n",
        "[('security/N_act/N', 41.051453862540839), ('public/N_order/N', 41.888334131600161)]\n",
        "___________________________________\n",
        "Adding noise from -3.794092522302754 to +3.794092522302754"
       ]
      },
      {
       "output_type": "stream",
       "stream": "stdout",
       "text": [
        "\n",
        "[('public/J_gathering/N', 37.447201566191985), ('major/J_sale/N', 38.784888368283774)]\n",
        "[('second/J_liner/N', 18.393475850443963), ('lengthy/J_negotiation/N', 18.511378415072716)]\n",
        "[('security/N_act/N', 43.378314395918878), ('public/J_gallery/N', 45.656999406082704)]\n",
        "___________________________________\n",
        "Adding noise from -4.17350177453303 to +4.17350177453303"
       ]
      },
      {
       "output_type": "stream",
       "stream": "stdout",
       "text": [
        "\n",
        "[('police/N_custody/N', 42.65442053419045), ('edwina/N_spicer/N', 43.782768103431884)]\n",
        "[('korean/J_contract/N', 20.206923571512728), ('hiv/N_infection/N', 20.578437801676184)]\n",
        "[('security/N_act/N', 42.444779690514771), ('special/J_rapporteur/N', 44.315885894842971)]\n",
        "___________________________________\n",
        "Adding noise from -4.552911026763305 to +4.552911026763305"
       ]
      },
      {
       "output_type": "stream",
       "stream": "stdout",
       "text": [
        "\n",
        "[('israel/N_everyone/N', 39.39582684415435), ('heart/N_problem/N', 39.965075914543469)]\n",
        "[('arab/N_delegate/N', 15.405329218648557), ('institutional/J_dealer/N', 16.115619038793319)]\n",
        "[('security/N_act/N', 41.690063005189934), ('rights/N_court/N', 43.359370889172652)]\n",
        "___________________________________\n",
        "Adding noise from -4.93232027899358 to +4.93232027899358"
       ]
      },
      {
       "output_type": "stream",
       "stream": "stdout",
       "text": [
        "\n",
        "[('kitty/N_hawk/N', 46.148116906257592), ('two-week/J_effort/N', 46.231632473454155)]\n",
        "[('jean-pierre/N_chevenment/N', 20.134688267900579), ('inflationary/J_effect/N', 20.49092896473736)]\n",
        "[('security/N_act/N', 49.801329969137463), ('public/N_order/N', 51.16595985423379)]\n",
        "___________________________________\n",
        "Adding noise from -5.311729531223856 to +5.311729531223856"
       ]
      },
      {
       "output_type": "stream",
       "stream": "stdout",
       "text": [
        "\n",
        "[('memorial/N_service/N', 44.370046780198727), ('intelligence/N_official/N', 45.103457095563883)]\n",
        "[('painful/J_restructuring/N', 21.609158754502143), ('final/J_year/N', 21.832460197021675)]\n",
        "[('security/N_act/N', 45.318835063370749), ('government/N_committee/N', 47.483431712828697)]\n",
        "___________________________________\n"
       ]
      }
     ],
     "prompt_number": 10
    },
    {
     "cell_type": "code",
     "collapsed": false,
     "input": [
      "from matplotlib import pylab as plt\n",
      "%matplotlib inline\n",
      "plt.hist(v.matrix.data, bins=100);"
     ],
     "language": "python",
     "metadata": {},
     "outputs": [
      {
       "metadata": {},
       "output_type": "display_data",
       "png": "[encoded data removed]",
       "text": [
        "<matplotlib.figure.Figure at 0x10d99ef50>"
       ]
      }
     ],
     "prompt_number": 4
    },
    {
     "cell_type": "code",
     "collapsed": false,
     "input": [
      "v.matrix.data.mean()"
     ],
     "language": "python",
     "metadata": {},
     "outputs": [
      {
       "metadata": {},
       "output_type": "pyout",
       "prompt_number": 5,
       "text": [
        "3.7896401161880076"
       ]
      }
     ],
     "prompt_number": 5
    },
    {
     "cell_type": "code",
     "collapsed": false,
     "input": [],
     "language": "python",
     "metadata": {},
     "outputs": []
    }
   ],
   "metadata": {}
  }
 ]
}