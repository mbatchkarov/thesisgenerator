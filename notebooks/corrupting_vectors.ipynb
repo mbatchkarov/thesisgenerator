{
 "metadata": {
  "name": "",
  "signature": "sha256:f6447e8516d7777a1693c81e4cfd7c8f3dc15ddccbc0630c7d5cc19bf9e713ad"
 },
 "nbformat": 3,
 "nbformat_minor": 0,
 "worksheets": [
  {
   "cells": [
    {
     "cell_type": "code",
     "collapsed": false,
     "input": [
      "from discoutils.thesaurus_loader import Vectors\n",
      "from random import sample\n",
      "import numpy as np"
     ],
     "language": "python",
     "metadata": {},
     "outputs": [],
     "prompt_number": 1
    },
    {
     "cell_type": "code",
     "collapsed": false,
     "input": [
      "v = Vectors.from_tsv('/mnt/lustre/scratch/inf/mmb28/FeatureExtractionToolkit/word2vec_vectors/composed/AN_NN_word2vec_20percent-rep0_Add.events.filtered.strings')\n",
      "keys = sample(sorted(v.keys()), 10)\n",
      "data = v._obj"
     ],
     "language": "python",
     "metadata": {},
     "outputs": [],
     "prompt_number": 9
    },
    {
     "cell_type": "code",
     "collapsed": false,
     "input": [
      "for n in np.arange(0, 1.5, .1):\n",
      "    v = Vectors(data, noise=n)\n",
      "    v.init_sims(n_neighbors=2)\n",
      "    for k in keys[:3]:\n",
      "#         print(v.get_vector(k).data[:3])\n",
      "        print(v.get_nearest_neighbours(k))\n",
      "    print('___________________________________%.1f'%n)"
     ],
     "language": "python",
     "metadata": {},
     "outputs": [
      {
       "output_type": "stream",
       "stream": "stdout",
       "text": [
        "[('box/N_change/N', 0.0), ('change/N_box/N', 0.0)]\n",
        "[('rich/J_lawn/N', 2.1455303781734183), ('lawn/N_fertilizer/N', 2.2382377028306872)]"
       ]
      },
      {
       "output_type": "stream",
       "stream": "stdout",
       "text": [
        "\n",
        "[('non/J_tube/N', 2.3577350708714349), ('non/J_tire/N', 2.3608497495052494)]"
       ]
      },
      {
       "output_type": "stream",
       "stream": "stdout",
       "text": [
        "\n",
        "___________________________________0.0\n",
        "[('box/N_change/N', 0.016096647851133666), ('straightforward/J_box/N', 1.8925504697981881)]"
       ]
      },
      {
       "output_type": "stream",
       "stream": "stdout",
       "text": [
        "\n",
        "[('rich/J_lawn/N', 2.145140422568081), ('lawn/N_fertilizer/N', 2.23945556079879)]"
       ]
      },
      {
       "output_type": "stream",
       "stream": "stdout",
       "text": [
        "\n",
        "[('non/J_tube/N', 2.3595007147902511), ('non/J_tire/N', 2.3617666587195987)]"
       ]
      },
      {
       "output_type": "stream",
       "stream": "stdout",
       "text": [
        "\n",
        "___________________________________0.1\n",
        "[('box/N_change/N', 0.031795428589591015), ('straightforward/J_box/N', 1.8941171183806855)]"
       ]
      },
      {
       "output_type": "stream",
       "stream": "stdout",
       "text": [
        "\n",
        "[('rich/J_lawn/N', 2.1503943961028389), ('lawn/N_fertilizer/N', 2.2408926108108971)]"
       ]
      },
      {
       "output_type": "stream",
       "stream": "stdout",
       "text": [
        "\n",
        "[('non/J_tube/N', 2.3562285105640148), ('non/J_tire/N', 2.3621490671243741)]"
       ]
      },
      {
       "output_type": "stream",
       "stream": "stdout",
       "text": [
        "\n",
        "___________________________________0.2\n",
        "[('box/N_change/N', 0.046794095432536056), ('straightforward/J_box/N', 1.8926529620137065)]"
       ]
      },
      {
       "output_type": "stream",
       "stream": "stdout",
       "text": [
        "\n",
        "[('rich/J_lawn/N', 2.1391847048396926), ('lawn/N_fertilizer/N', 2.2434481795089516)]"
       ]
      },
      {
       "output_type": "stream",
       "stream": "stdout",
       "text": [
        "\n",
        "[('non/J_tire/N', 2.3603161294193851), ('non/J_tube/N', 2.3614136576910822)]"
       ]
      },
      {
       "output_type": "stream",
       "stream": "stdout",
       "text": [
        "\n",
        "___________________________________0.3\n",
        "[('box/N_change/N', 0.061104732198683231), ('straightforward/J_box/N', 1.888479594240956)]"
       ]
      },
      {
       "output_type": "stream",
       "stream": "stdout",
       "text": [
        "\n",
        "[('rich/J_lawn/N', 2.1497599060049501), ('lawn/N_fertilizer/N', 2.2445276054368599)]"
       ]
      },
      {
       "output_type": "stream",
       "stream": "stdout",
       "text": [
        "\n",
        "[('non/J_tube/N', 2.3522739064767668), ('non/J_tire/N', 2.3579565642130818)]"
       ]
      },
      {
       "output_type": "stream",
       "stream": "stdout",
       "text": [
        "\n",
        "___________________________________0.4\n",
        "[('box/N_change/N', 0.075998208272616066), ('straightforward/J_box/N', 1.8814891769527458)]"
       ]
      },
      {
       "output_type": "stream",
       "stream": "stdout",
       "text": [
        "\n",
        "[('rich/J_lawn/N', 2.1534039132115335), ('lawn/N_fertilizer/N', 2.2517764680226953)]"
       ]
      },
      {
       "output_type": "stream",
       "stream": "stdout",
       "text": [
        "\n",
        "[('non/J_tire/N', 2.3477803156779826), ('non/J_tube/N', 2.3522173677692177)]"
       ]
      },
      {
       "output_type": "stream",
       "stream": "stdout",
       "text": [
        "\n",
        "___________________________________0.5\n",
        "[('box/N_change/N', 0.088323338877248747), ('straightforward/J_box/N', 1.8861856994562276)]"
       ]
      },
      {
       "output_type": "stream",
       "stream": "stdout",
       "text": [
        "\n",
        "[('rich/J_lawn/N', 2.1589045265282727), ('lawn/N_fertilizer/N', 2.233096437578507)]"
       ]
      },
      {
       "output_type": "stream",
       "stream": "stdout",
       "text": [
        "\n",
        "[('non/J_tire/N', 2.357555047961498), ('non/J_tube/N', 2.3590054115698966)]"
       ]
      },
      {
       "output_type": "stream",
       "stream": "stdout",
       "text": [
        "\n",
        "___________________________________0.6\n",
        "[('box/N_change/N', 0.10301239983547575), ('straightforward/J_box/N', 1.8876720618592711)]"
       ]
      },
      {
       "output_type": "stream",
       "stream": "stdout",
       "text": [
        "\n",
        "[('rich/J_lawn/N', 2.1366871120057964), ('lawn/N_fertilizer/N', 2.224974750827112)]"
       ]
      },
      {
       "output_type": "stream",
       "stream": "stdout",
       "text": [
        "\n",
        "[('non/J_tube/N', 2.3361493016184789), ('non/J_tire/N', 2.3478270838056376)]"
       ]
      },
      {
       "output_type": "stream",
       "stream": "stdout",
       "text": [
        "\n",
        "___________________________________0.7\n",
        "[('box/N_change/N', 0.11911619959997423), ('straightforward/J_box/N', 1.8864497338020436)]"
       ]
      },
      {
       "output_type": "stream",
       "stream": "stdout",
       "text": [
        "\n",
        "[('rich/J_lawn/N', 2.1365766602590108), ('lawn/N_fertilizer/N', 2.2407534330381034)]"
       ]
      },
      {
       "output_type": "stream",
       "stream": "stdout",
       "text": [
        "\n",
        "[('non/J_tire/N', 2.3534147227262006), ('non/J_tube/N', 2.3771711631856522)]"
       ]
      },
      {
       "output_type": "stream",
       "stream": "stdout",
       "text": [
        "\n",
        "___________________________________0.8\n",
        "[('box/N_change/N', 0.13302886291700289), ('straightforward/J_box/N', 1.8662132029464567)]"
       ]
      },
      {
       "output_type": "stream",
       "stream": "stdout",
       "text": [
        "\n",
        "[('rich/J_lawn/N', 2.1419074523733572), ('lawn/N_cutting/N', 2.2385684503515875)]"
       ]
      },
      {
       "output_type": "stream",
       "stream": "stdout",
       "text": [
        "\n",
        "[('non/J_tube/N', 2.329925922832039), ('non/J_tire/N', 2.3644811547024189)]"
       ]
      },
      {
       "output_type": "stream",
       "stream": "stdout",
       "text": [
        "\n",
        "___________________________________0.9\n",
        "[('box/N_change/N', 0.15267894762929063), ('straightforward/J_box/N', 1.8943016246079134)]"
       ]
      },
      {
       "output_type": "stream",
       "stream": "stdout",
       "text": [
        "\n",
        "[('rich/J_lawn/N', 2.1277185907743643), ('lawn/N_cutting/N', 2.2240307015240357)]"
       ]
      },
      {
       "output_type": "stream",
       "stream": "stdout",
       "text": [
        "\n",
        "[('non/J_tire/N', 2.3651575491362276), ('non/J_tube/N', 2.3660552834782327)]"
       ]
      },
      {
       "output_type": "stream",
       "stream": "stdout",
       "text": [
        "\n",
        "___________________________________1.0\n",
        "[('box/N_change/N', 0.16554810493378916), ('straightforward/J_box/N', 1.8811689081603791)]"
       ]
      },
      {
       "output_type": "stream",
       "stream": "stdout",
       "text": [
        "\n",
        "[('rich/J_lawn/N', 2.1464001950343694), ('lawn/N_fertilizer/N', 2.2175236139389023)]"
       ]
      },
      {
       "output_type": "stream",
       "stream": "stdout",
       "text": [
        "\n",
        "[('non/J_tire/N', 2.3531529342345499), ('non/J_tube/N', 2.3577048532302136)]"
       ]
      },
      {
       "output_type": "stream",
       "stream": "stdout",
       "text": [
        "\n",
        "___________________________________1.1\n",
        "[('box/N_change/N', 0.1853094593073247), ('straightforward/J_box/N', 1.9110906124974107)]"
       ]
      },
      {
       "output_type": "stream",
       "stream": "stdout",
       "text": [
        "\n",
        "[('rich/J_lawn/N', 2.1879361192523801), ('lawn/N_fertilizer/N', 2.2519780566513861)]"
       ]
      },
      {
       "output_type": "stream",
       "stream": "stdout",
       "text": [
        "\n",
        "[('non/J_tire/N', 2.3596937994151639), ('non/J_tube/N', 2.3738982793165642)]"
       ]
      },
      {
       "output_type": "stream",
       "stream": "stdout",
       "text": [
        "\n",
        "___________________________________1.2\n",
        "[('box/N_change/N', 0.18356329360977119), ('convenient/J_box/N', 1.8873455851250533)]"
       ]
      },
      {
       "output_type": "stream",
       "stream": "stdout",
       "text": [
        "\n",
        "[('rich/J_lawn/N', 2.15226759286909), ('lawn/N_cutting/N', 2.2387819510851794)]"
       ]
      },
      {
       "output_type": "stream",
       "stream": "stdout",
       "text": [
        "\n",
        "[('non/J_tire/N', 2.353005563553197), ('non/J_tube/N', 2.3755676686068283)]"
       ]
      },
      {
       "output_type": "stream",
       "stream": "stdout",
       "text": [
        "\n",
        "___________________________________1.3\n",
        "[('box/N_change/N', 0.21987036832259702), ('straightforward/J_box/N', 1.8417805281983832)]"
       ]
      },
      {
       "output_type": "stream",
       "stream": "stdout",
       "text": [
        "\n",
        "[('rich/J_lawn/N', 2.1702870259718341), ('lawn/N_fertilizer/N', 2.2221570435034392)]"
       ]
      },
      {
       "output_type": "stream",
       "stream": "stdout",
       "text": [
        "\n",
        "[('non/J_tube/N', 2.3458538373499933), ('non/J_tire/N', 2.3620390370711299)]"
       ]
      },
      {
       "output_type": "stream",
       "stream": "stdout",
       "text": [
        "\n",
        "___________________________________1.4\n"
       ]
      }
     ],
     "prompt_number": 10
    },
    {
     "cell_type": "code",
     "collapsed": false,
     "input": [
      "from matplotlib import pylab as plt\n",
      "%matplotlib inline\n",
      "plt.hist(v.matrix.data, bins=100);"
     ],
     "language": "python",
     "metadata": {},
     "outputs": [
      {
       "metadata": {},
       "output_type": "display_data",
       "png": "[encoded data removed]",
       "text": [
        "<matplotlib.figure.Figure at 0x10d99ef50>"
       ]
      }
     ],
     "prompt_number": 4
    },
    {
     "cell_type": "code",
     "collapsed": false,
     "input": [
      "v.matrix.data.mean()"
     ],
     "language": "python",
     "metadata": {},
     "outputs": [
      {
       "metadata": {},
       "output_type": "pyout",
       "prompt_number": 5,
       "text": [
        "3.7896401161880076"
       ]
      }
     ],
     "prompt_number": 5
    },
    {
     "cell_type": "code",
     "collapsed": false,
     "input": [
      "np.arange(.2, 2.1, .2)"
     ],
     "language": "python",
     "metadata": {},
     "outputs": [
      {
       "metadata": {},
       "output_type": "pyout",
       "prompt_number": 6,
       "text": [
        "array([ 0.2,  0.4,  0.6,  0.8,  1. ,  1.2,  1.4,  1.6,  1.8,  2. ])"
       ]
      }
     ],
     "prompt_number": 6
    },
    {
     "cell_type": "code",
     "collapsed": false,
     "input": [],
     "language": "python",
     "metadata": {},
     "outputs": []
    }
   ],
   "metadata": {}
  }
 ]
}