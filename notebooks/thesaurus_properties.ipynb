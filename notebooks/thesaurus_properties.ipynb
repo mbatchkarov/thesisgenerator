{
 "metadata": {
  "name": ""
 },
 "nbformat": 3,
 "nbformat_minor": 0,
 "worksheets": [
  {
   "cells": [
    {
     "cell_type": "markdown",
     "metadata": {},
     "source": [
      "Deprecated\n",
      "============\n",
      "\n",
      "This notebook contains some code for loading a thesaurus and looking at the correlation between the sim of an entry and a neighbours, and the frequency of the neighbour in the unlabelled dataset."
     ]
    },
    {
     "cell_type": "code",
     "collapsed": false,
     "input": [],
     "language": "python",
     "metadata": {},
     "outputs": []
    },
    {
     "cell_type": "code",
     "collapsed": false,
     "input": [
      "%matplotlib inline\n",
      "\n",
      "from glob import glob\n",
      "import os\n",
      "from collections import defaultdict\n",
      "import numpy as np\n",
      "from scipy.stats import pearsonr\n",
      "import matplotlib.pyplot as plt\n",
      "from thesisgenerator.utils.conf_file_utils import parse_config_file\n",
      "from thesisgenerator.utils.data_utils import load_and_shelve_thesaurus\n",
      "from discoutils.thesaurus_loader import Thesaurus\n",
      "\n",
      "os.chdir('/mnt/lustre/scratch/inf/mmb28/thesisgenerator')"
     ],
     "language": "python",
     "metadata": {},
     "outputs": [],
     "prompt_number": 43
    },
    {
     "cell_type": "code",
     "collapsed": false,
     "input": [
      "with open('notebooks/MR_R2_feat_freq_in_gigaw.txt') as infile:\n",
      "    feat_freq = defaultdict(int)\n",
      "    for line in infile:\n",
      "        freq, feature = line.strip().split()\n",
      "        feat_freq[feature] += int(freq)\n",
      "        "
     ],
     "language": "python",
     "metadata": {},
     "outputs": [],
     "prompt_number": 45
    },
    {
     "cell_type": "code",
     "collapsed": false,
     "input": [],
     "language": "python",
     "metadata": {},
     "outputs": []
    },
    {
     "cell_type": "code",
     "collapsed": false,
     "input": [
      "def do_thesaurus(thes, feat_freq):\n",
      "    sims, freqs = [], []\n",
      "    for key, neighbours in thes.items():\n",
      "        for neigh, sim in neighbours[:200]:\n",
      "            if neigh in feat_freq and sim < 1:\n",
      "                sims.append(sim)\n",
      "                freqs.append(feat_freq[neigh])\n",
      "    return sims, freqs\n",
      "\n",
      "def th_file(path):\n",
      "    conf = parse_config_file(path)[0]\n",
      "    myfile = conf['vector_sources']['unigram_paths']\n",
      "    return myfile[0] if myfile else None\n",
      "\n",
      "conf_files = glob('conf/exp*/exp*_base.conf')\n",
      "thesauri = set(th_file(path) for path in conf_files if th_file(path))\n",
      "for name in thesauri:\n",
      "    shelf = 'shelf%d' % hash(tuple([name]))\n",
      "    if os.path.exists(shelf):\n",
      "        th = Thesaurus.from_shelf_readonly(shelf)\n",
      "        print 'Thesaurus is %s, len %d'%(os.path.basename(name), len(th))\n",
      "        x,y = do_thesaurus(th, feat_freq)\n",
      "        print '\\tPearson R or entry sim and entry freq: %2.2f' % pearsonr(x, y)[0]\n",
      "#         break\n",
      "    else:\n",
      "        pass\n",
      "#         print 'No shelf for thesaurus', os.path.basename(name)"
     ],
     "language": "python",
     "metadata": {},
     "outputs": [
      {
       "output_type": "stream",
       "stream": "stdout",
       "text": [
        "Thesaurus is AN_NN_gigaw-100_Right.sims.neighbours.strings, len 1038\n",
        "\tPearson R or entry sim and entry freq: -0.09"
       ]
      },
      {
       "output_type": "stream",
       "stream": "stdout",
       "text": [
        "\n",
        "Thesaurus is AN_NN_gigaw_Right.sims.neighbours.strings, len 1103\n",
        "\tPearson R or entry sim and entry freq: -0.10"
       ]
      },
      {
       "output_type": "stream",
       "stream": "stdout",
       "text": [
        "\n",
        "Thesaurus is exp10-SVD100.sims.neighbours.strings, len 1977\n",
        "\tPearson R or entry sim and entry freq: 0.02"
       ]
      },
      {
       "output_type": "stream",
       "stream": "stdout",
       "text": [
        "\n",
        "Thesaurus is AN_NN_gigaw_Mult.sims.neighbours.strings, len 64\n",
        "\tPearson R or entry sim and entry freq: -0.26\n",
        "Thesaurus is AN_NN_gigaw-100_Left.sims.neighbours.strings, len 775\n",
        "\tPearson R or entry sim and entry freq: 0.06"
       ]
      },
      {
       "output_type": "stream",
       "stream": "stdout",
       "text": [
        "\n",
        "Thesaurus is socher.sims.neighbours.strings, len 58184"
       ]
      }
     ],
     "prompt_number": "*"
    },
    {
     "cell_type": "code",
     "collapsed": false,
     "input": [],
     "language": "python",
     "metadata": {},
     "outputs": []
    }
   ],
   "metadata": {}
  }
 ]
}