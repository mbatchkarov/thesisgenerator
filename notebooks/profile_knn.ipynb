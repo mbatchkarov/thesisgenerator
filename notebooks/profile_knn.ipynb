{
 "metadata": {
  "name": "",
  "signature": "sha256:34cacdd8a7fe540b45ef35d6eae44dc685156a85516c235b669d847baced9aa3"
 },
 "nbformat": 3,
 "nbformat_minor": 0,
 "worksheets": [
  {
   "cells": [
    {
     "cell_type": "code",
     "collapsed": false,
     "input": [
      "from discoutils.thesaurus_loader import Vectors\n",
      "%pwd\n",
      "Vectors.init_sims??"
     ],
     "language": "python",
     "metadata": {},
     "outputs": [],
     "prompt_number": 1
    },
    {
     "cell_type": "code",
     "collapsed": false,
     "input": [
      "name = '../../FeatureExtractionToolkit/exp10-13-composed-ngrams/AN_NN_gigaw-100_Add.events.filtered.strings'\n",
      "v = Vectors.from_tsv(name, allow_lexical_overlap=True)"
     ],
     "language": "python",
     "metadata": {},
     "outputs": [],
     "prompt_number": 2
    },
    {
     "cell_type": "code",
     "collapsed": false,
     "input": [
      "v.init_sims(knn='kd_tree', n_neighbors=5)\n",
      "print(v.get_nearest_neighbours('press/N'))\n",
      "%timeit v.get_nearest_neighbours('press/N')\n"
     ],
     "language": "python",
     "metadata": {},
     "outputs": [
      {
       "output_type": "stream",
       "stream": "stdout",
       "text": [
        "[('press/N_c/N', 0.99726767187831422), ('press/N_spa/N', -8.2519392777647873), ('traditional/J_press/N', -8.9994314985257926), ('press/N_briefing/N', -9.993192580836034), ('press/N_material/N', -9.9982890645979019)]\n",
        "1000 loops, best of 3: 822 \u00b5s per loop"
       ]
      },
      {
       "output_type": "stream",
       "stream": "stdout",
       "text": [
        "\n"
       ]
      }
     ],
     "prompt_number": 3
    },
    {
     "cell_type": "code",
     "collapsed": false,
     "input": [
      "v.init_sims(knn='brute', n_neighbors=5)\n",
      "print(v.get_nearest_neighbours('press/N'))\n",
      "%timeit v.get_nearest_neighbours('press/N')[:5]"
     ],
     "language": "python",
     "metadata": {},
     "outputs": [
      {
       "output_type": "stream",
       "stream": "stdout",
       "text": [
        "[('press/N_c/N', 0.99726766965828451), ('press/N_spa/N', -8.2519392777656222), ('traditional/J_press/N', -8.9994314985260875), ('press/N_briefing/N', -9.9931925808366451), ('press/N_material/N', -9.9982890645986977)]\n",
        "100 loops, best of 3: 16.6 ms per loop"
       ]
      },
      {
       "output_type": "stream",
       "stream": "stdout",
       "text": [
        "\n"
       ]
      }
     ],
     "prompt_number": 4
    },
    {
     "cell_type": "code",
     "collapsed": false,
     "input": [
      "len(v)"
     ],
     "language": "python",
     "metadata": {},
     "outputs": [
      {
       "metadata": {},
       "output_type": "pyout",
       "prompt_number": 5,
       "text": [
        "68170"
       ]
      }
     ],
     "prompt_number": 5
    },
    {
     "cell_type": "code",
     "collapsed": false,
     "input": [
      "valid_metrics = {'kd_tree': ['chebyshev',  'infinity',  'euclidean',\n",
      "  'minkowski',\n",
      "  'p',\n",
      "  'l2',\n",
      "  'l1',\n",
      "  'cityblock',\n",
      "  'manhattan'],\n",
      " 'brute': ['euclidean',\n",
      "  'cosine',\n",
      "  'l2',\n",
      "  'l1',\n",
      "  'cityblock',\n",
      "  'manhattan',\n",
      "  'braycurtis',\n",
      "  'canberra',\n",
      "  'chebyshev',\n",
      "  'correlation',\n",
      "  'cosine',\n",
      "  'dice',\n",
      "  'hamming',\n",
      "  'jaccard',\n",
      "  'kulsinski',\n",
      "  'mahalanobis',\n",
      "  'matching',\n",
      "  'minkowski',\n",
      "  'rogerstanimoto',\n",
      "  'russellrao',\n",
      "  'seuclidean',\n",
      "  'sokalmichener',\n",
      "  'sokalsneath',\n",
      "  'sqeuclidean',\n",
      "  'yule',\n",
      "  'wminkowski'],\n",
      " 'ball_tree': ['chebyshev',\n",
      "  'infinity',\n",
      "  'canberra',\n",
      "  'jaccard',\n",
      "  'seuclidean',\n",
      "  'sokalsneath',\n",
      "  'sokalmichener',\n",
      "  'haversine',\n",
      "  'rogerstanimoto',\n",
      "  'matching',\n",
      "  'kulsinski',\n",
      "  'dice',\n",
      "  'euclidean',\n",
      "  'minkowski',\n",
      "  'mahalanobis',\n",
      "  'braycurtis',\n",
      "  'pyfunc',\n",
      "  'p',\n",
      "  'russellrao',\n",
      "  'l2',\n",
      "  'hamming',\n",
      "  'l1',\n",
      "  'cityblock',\n",
      "  'wminkowski',\n",
      "  'manhattan']}\n"
     ],
     "language": "python",
     "metadata": {},
     "outputs": [],
     "prompt_number": 6
    },
    {
     "cell_type": "code",
     "collapsed": false,
     "input": [
      "set(valid_metrics['kd_tree']).intersection(valid_metrics['brute'])"
     ],
     "language": "python",
     "metadata": {},
     "outputs": [
      {
       "metadata": {},
       "output_type": "pyout",
       "prompt_number": 7,
       "text": [
        "{'chebyshev', 'cityblock', 'euclidean', 'l1', 'l2', 'manhattan', 'minkowski'}"
       ]
      }
     ],
     "prompt_number": 7
    },
    {
     "cell_type": "code",
     "collapsed": false,
     "input": [],
     "language": "python",
     "metadata": {},
     "outputs": []
    }
   ],
   "metadata": {}
  }
 ]
}