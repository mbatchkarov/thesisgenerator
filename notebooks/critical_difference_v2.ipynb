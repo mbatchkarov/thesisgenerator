{
 "metadata": {
  "name": "",
  "signature": "sha256:2d90ac9ae35e1b034463fd6a6b382d63334f762266ecd294cf72787d3b346412"
 },
 "nbformat": 3,
 "nbformat_minor": 0,
 "worksheets": [
  {
   "cells": [
    {
     "cell_type": "code",
     "collapsed": false,
     "input": [
      "%matplotlib inline\n",
      "import matplotlib.pylab as plt\n",
      "from math import ceil\n",
      "import numpy as np\n",
      "from matplotlib.lines import Line2D"
     ],
     "language": "python",
     "metadata": {},
     "outputs": [],
     "prompt_number": 1
    },
    {
     "cell_type": "code",
     "collapsed": false,
     "input": [
      "def merge_nonsignificant_cliques(not_sig):\n",
      "    # keep only longest\n",
      "    def contained_in_larger_interval(i, j, not_sig):\n",
      "        for i1, j1 in not_sig:\n",
      "            if (i1 <= i and j1 > j) or (i1 < i and j1 >= j):\n",
      "                return True\n",
      "        return False\n",
      "\n",
      "    longest = [(i, j) for i, j in not_sig if not contained_in_larger_interval(i, j, not_sig)]\n",
      "\n",
      "    return longest"
     ],
     "language": "python",
     "metadata": {},
     "outputs": [],
     "prompt_number": 2
    },
    {
     "cell_type": "code",
     "collapsed": false,
     "input": [
      "def do_plot(x, get_linked_methods, names=None,\n",
      "            arrow_vgap=.2,  # scale 0 to 1, fraction of axis\n",
      "            link_voffset=.15, link_vgap=.1  # this is on a scale of 0 to 100\n",
      "):\n",
      "    if names is None:\n",
      "        names = range(len(x))\n",
      "\n",
      "    # remove both axes and the frame\n",
      "    # http://stackoverflow.com/a/9082675/419338\n",
      "    # http://www.shocksolution.com/2011/08/removing-an-axis-or-both-axes-from-a-matplotlib-plot/\n",
      "    fig, ax = plt.subplots(1, 1, figsize=(6, 2), subplot_kw=dict(frameon=False))\n",
      "    ax.get_xaxis().tick_bottom()\n",
      "    ax.get_yaxis().set_visible(False)\n",
      "\n",
      "    size = len(x)\n",
      "    y = [0] * size\n",
      "    ax.plot(x, y, 'ko')\n",
      "\n",
      "    plt.xlim(0.8 * x[0] - 0.1, 1.2 * x[-1] + 0.1)\n",
      "    plt.ylim(0, 1)\n",
      "\n",
      "    # draw the x axis again\n",
      "    # this must be done after plotting\n",
      "    xmin, xmax = ax.get_xaxis().get_view_interval()\n",
      "    ymin, ymax = ax.get_yaxis().get_view_interval()\n",
      "    ax.add_artist(Line2D((xmin, xmax), (ymin, ymin), color='black', linewidth=2))\n",
      "\n",
      "    half = int(ceil(len(x) / 2.))\n",
      "    ycoords = list(reversed([0.9 - arrow_vgap * i for i in range(half)]))\n",
      "    ycoords.extend(reversed(ycoords))\n",
      "    for i in range(size):\n",
      "        ax.annotate(str(names[i]),\n",
      "                    xy=(x[i], y[i]),\n",
      "                    xytext=(-.05 if i < half else .95,  # x coordinate\n",
      "                            ycoords[i]),  # y coordinate\n",
      "                    textcoords='axes fraction',\n",
      "                    ha='center', va='center',\n",
      "                    arrowprops=dict(arrowstyle='->',\n",
      "                                    connectionstyle='angle,angleA=0,angleB=90'))\n",
      "\n",
      "    # http://stackoverflow.com/a/12866010/419338\n",
      "    linked_methods = merge_nonsignificant_cliques(get_linked_methods)\n",
      "    used_endpoints = set()\n",
      "    y = link_voffset\n",
      "    for i, (x1, x2) in enumerate(sorted(linked_methods)):\n",
      "        # not lift if it will overlap with an existing line\n",
      "        if any(x1 <= foo for foo in used_endpoints):\n",
      "            y += link_vgap\n",
      "        plt.hlines(y, x[x1], x[x2], linewidth=3)  # y, x0, x1\n",
      "\n",
      "        used_endpoints.add(x2)\n",
      "\n",
      "do_plot(range(5), ((0,1), (1,2), (3,4)))        \n",
      "do_plot(range(5), ((0,1), (1,2), (3,4)), names = list(range(5)))        "
     ],
     "language": "python",
     "metadata": {},
     "outputs": [
      {
       "metadata": {},
       "output_type": "display_data",
       "png": "[encoded data removed]",
       "text": [
        "<matplotlib.figure.Figure at 0x106479e50>"
       ]
      },
      {
       "metadata": {},
       "output_type": "display_data",
       "png": "[encoded data removed]",
       "text": [
        "<matplotlib.figure.Figure at 0x106479210>"
       ]
      }
     ],
     "prompt_number": 6
    },
    {
     "cell_type": "code",
     "collapsed": false,
     "input": [
      "do_plot(np.arange(8)/10., ((0,1), (1,2), (3,4), (5,7)))\n",
      "do_plot([55.3, 56, 65, 65.3, 65.4, 68], \n",
      "        ((0,1), (2,5)))\n",
      "\n",
      "do_plot([52.8, 55, 55.8, 57, 59.5, 65], \n",
      "        ((0,3), (1,4), (4,5)))"
     ],
     "language": "python",
     "metadata": {},
     "outputs": [
      {
       "metadata": {},
       "output_type": "display_data",
       "png": "[encoded data removed]",
       "text": [
        "<matplotlib.figure.Figure at 0x105ffb9d0>"
       ]
      },
      {
       "metadata": {},
       "output_type": "display_data",
       "png": "[encoded data removed]",
       "text": [
        "<matplotlib.figure.Figure at 0x105ffb990>"
       ]
      },
      {
       "metadata": {},
       "output_type": "display_data",
       "png": "[encoded data removed]",
       "text": [
        "<matplotlib.figure.Figure at 0x1061d4fd0>"
       ]
      }
     ],
     "prompt_number": 4
    },
    {
     "cell_type": "code",
     "collapsed": false,
     "input": [
      "fig, ax = plt.subplots(1, 1, figsize=(6, 2), subplot_kw=dict(frameon=False))\n",
      "# ax = plt.axes(frameon=False)\n",
      "ax.get_xaxis().tick_bottom()\n",
      "ax.get_yaxis().set_visible(False)\n",
      "ax.plot([0]*10)\n",
      "# plt.ylim(-0.1, 1) # note axis runs from 0 to 1\n",
      "plt.ylim(-0.1, 0.3) # re-scaling the axis moves the annotation too\n",
      "ax.annotate('something',\n",
      "            xy=(3, 0),\n",
      "            xytext=(.5, 0.85), # the annotation is placed at y=0.3\n",
      "            textcoords='axes fraction',\n",
      "            arrowprops=dict(arrowstyle='->', \n",
      "            connectionstyle='angle,angleA=0,angleB=90'))\n",
      "\n",
      "\n",
      "plt.savefig('test.png')"
     ],
     "language": "python",
     "metadata": {},
     "outputs": [
      {
       "metadata": {},
       "output_type": "display_data",
       "png": "[encoded data removed]",
       "text": [
        "<matplotlib.figure.Figure at 0x1061ae350>"
       ]
      }
     ],
     "prompt_number": 5
    },
    {
     "cell_type": "code",
     "collapsed": false,
     "input": [],
     "language": "python",
     "metadata": {},
     "outputs": []
    }
   ],
   "metadata": {}
  }
 ]
}