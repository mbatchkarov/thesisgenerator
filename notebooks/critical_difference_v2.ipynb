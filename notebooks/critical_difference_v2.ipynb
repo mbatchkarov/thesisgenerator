{
 "metadata": {
  "name": ""
 },
 "nbformat": 3,
 "nbformat_minor": 0,
 "worksheets": [
  {
   "cells": [
    {
     "cell_type": "code",
     "collapsed": false,
     "input": [
      "%matplotlib inline\n",
      "import matplotlib.pylab as plt\n",
      "import numpy as np"
     ],
     "language": "python",
     "metadata": {},
     "outputs": [],
     "prompt_number": 4
    },
    {
     "cell_type": "code",
     "collapsed": false,
     "input": [
      "insignificant_indices = ((0,1), (1,2), (3,4))\n",
      "size = 5\n",
      "x = range(size)"
     ],
     "language": "python",
     "metadata": {},
     "outputs": [],
     "prompt_number": 5
    },
    {
     "cell_type": "code",
     "collapsed": false,
     "input": [
      "def go_plot(x, insignificant_indices):\n",
      "    # http://stackoverflow.com/a/9082675/419338\n",
      "    fig, ax = plt.subplots()\n",
      "    \n",
      "    size=len(x)\n",
      "    y=[0]*size\n",
      "    ax.plot(x, y, 'bo')\n",
      "    plt.title(str(x))\n",
      "    plt.yticks([])\n",
      "    plt.xlim(0.8 * x[0] - 0.1, 1.2*x[-1] + 0.1)\n",
      "    plt.ylim(0, 1)\n",
      "    half = len(x)/2\n",
      "    max_height = 20*size\n",
      "    for i in range(size):\n",
      "        ax.annotate('label %d'%i,\n",
      "                    xy=(x[i], y[i]),\n",
      "                    xytext=(20 if i < half else -10, # x coordinate\n",
      "                            20 + 20*i if i< half else 20*size-20*i), # y coordinate\n",
      "                    textcoords='axes points',\n",
      "                    ha='center', va='bottom',\n",
      "                    arrowprops=dict(arrowstyle='->', \n",
      "                    connectionstyle='angle,angleA=0,angleB=90'))\n",
      "    \n",
      "    # http://stackoverflow.com/a/12866010/419338\n",
      "    for i, (x1,x2) in enumerate(insignificant_indices):\n",
      "        plt.hlines(0.05 + 0.02*i, x[x1], x[x2], linewidth=3) # y, x0, x1\n",
      "        # todo do not lift line up unless it will overlap with an existing line         "
     ],
     "language": "python",
     "metadata": {},
     "outputs": [],
     "prompt_number": 32
    },
    {
     "cell_type": "code",
     "collapsed": false,
     "input": [
      "go_plot(range(5), ((0,1), (1,2), (3,4)))\n",
      "go_plot(np.arange(8)/10., ((0,1), (1,2), (3,4), (5,7)))\n",
      "\n",
      "go_plot([55.3, 56, 65, 65.3, 65.4, 68], \n",
      "        ((0,1), (2,5)))\n",
      "\n",
      "go_plot([52.8, 55, 55.8, 57, 59.5, 65], \n",
      "        ((0,3), (1,4), (4,5))"
     ],
     "language": "python",
     "metadata": {},
     "outputs": [
      {
       "ename": "SyntaxError",
       "evalue": "invalid syntax (<ipython-input-36-26362de5111f>, line 8)",
       "output_type": "pyerr",
       "traceback": [
        "\u001b[0;36m  File \u001b[0;32m\"<ipython-input-36-26362de5111f>\"\u001b[0;36m, line \u001b[0;32m8\u001b[0m\n\u001b[0;31m    ((0,3), (1,4), (4,5))\u001b[0m\n\u001b[0m                         ^\u001b[0m\n\u001b[0;31mSyntaxError\u001b[0m\u001b[0;31m:\u001b[0m invalid syntax\n"
       ]
      }
     ],
     "prompt_number": 36
    },
    {
     "cell_type": "code",
     "collapsed": false,
     "input": [],
     "language": "python",
     "metadata": {},
     "outputs": []
    }
   ],
   "metadata": {}
  }
 ]
}