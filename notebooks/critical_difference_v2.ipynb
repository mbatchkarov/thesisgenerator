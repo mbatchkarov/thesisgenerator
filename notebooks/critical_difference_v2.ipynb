{
 "metadata": {
  "name": "",
  "signature": "sha256:c07508c6696473a6de24a47ca1efaf7be5589957a2064b14c72d3f08c39010d9"
 },
 "nbformat": 3,
 "nbformat_minor": 0,
 "worksheets": [
  {
   "cells": [
    {
     "cell_type": "code",
     "collapsed": false,
     "input": [
      "%matplotlib inline\n",
      "import matplotlib.pylab as plt\n",
      "import numpy as np\n",
      "from matplotlib.lines import Line2D"
     ],
     "language": "python",
     "metadata": {},
     "outputs": [],
     "prompt_number": 25
    },
    {
     "cell_type": "code",
     "collapsed": false,
     "input": [
      "insignificant_indices = ((0,1), (1,2), (3,4))\n",
      "size = 5\n",
      "x = range(size)"
     ],
     "language": "python",
     "metadata": {},
     "outputs": [],
     "prompt_number": 26
    },
    {
     "cell_type": "code",
     "collapsed": false,
     "input": [
      "def go_plot(x, insignificant_indices,\n",
      "            names=None,\n",
      "            arrow_voffset=.2, arrow_vgap=.2, # todo 0 to 1, fraction of axis\n",
      "            link_voffset=3, link_vgap=3 # this is on a scale of 0 to 100\n",
      "            ):\n",
      "    if names is None:\n",
      "        names = range(len(x))\n",
      "        \n",
      "    # http://stackoverflow.com/a/9082675/419338\n",
      "    # http://www.shocksolution.com/2011/08/removing-an-axis-or-both-axes-from-a-matplotlib-plot/\n",
      "    # remove both axes and the frame\n",
      "    fig = plt.figure(facecolor='white')\n",
      "    ax = plt.axes(frameon=False)\n",
      "    ax.get_xaxis().tick_bottom()\n",
      "    ax.get_yaxis().set_visible(False)\n",
      "    \n",
      "    size=len(x)\n",
      "    y=[0]*size\n",
      "    ax.plot(x, y, 'ko')\n",
      "\n",
      "    plt.xlim(0.8 * x[0] - 0.1, 1.2*x[-1] + 0.1)\n",
      "    plt.ylim(0, 100)\n",
      "    \n",
      "    # draw the x axis again\n",
      "    # this must be done after plotting\n",
      "    xmin, xmax = ax.get_xaxis().get_view_interval()\n",
      "    ymin, ymax = ax.get_yaxis().get_view_interval()\n",
      "    ax.add_artist(Line2D((xmin, xmax), (ymin, ymin), color='black', linewidth=2))\n",
      "\n",
      "    \n",
      "    half = len(x)/2\n",
      "\n",
      "    for i in range(size):\n",
      "        ax.annotate(str(names[i]),\n",
      "                    xy=(x[i], y[i]),\n",
      "                    xytext=(-.05 if i < half else .95, # x coordinate\n",
      "                            arrow_voffset + arrow_vgap*i if i< half else \n",
      "                                arrow_voffset*size-arrow_vgap*i), # y coordinate\n",
      "                    textcoords='axes fraction',\n",
      "                    ha='center', va='center',\n",
      "                    arrowprops=dict(arrowstyle='-', \n",
      "                    connectionstyle='angle,angleA=0,angleB=90'))\n",
      "    \n",
      "    # http://stackoverflow.com/a/12866010/419338\n",
      "    used_endpoints = set()\n",
      "    y = link_voffset\n",
      "    for i, (x1,x2) in enumerate(sorted(insignificant_indices)):\n",
      "        # not lift if it will overlap with an existing line         \n",
      "        if any(x1<=foo for foo in used_endpoints):\n",
      "            y += link_vgap\n",
      "        plt.hlines(y, x[x1], x[x2], linewidth=3) # y, x0, x1\n",
      "\n",
      "        used_endpoints.add(x2)\n",
      "\n",
      "go_plot(range(5), ((0,1), (1,2), (3,4)))        "
     ],
     "language": "python",
     "metadata": {},
     "outputs": [
      {
       "metadata": {},
       "output_type": "display_data",
       "png": "[encoded data removed]",
       "text": [
        "<matplotlib.figure.Figure at 0x106705510>"
       ]
      }
     ],
     "prompt_number": 55
    },
    {
     "cell_type": "code",
     "collapsed": false,
     "input": [
      "\n",
      "# go_plot(np.arange(8)/10., ((0,1), (1,2), (3,4), (5,7)))\n",
      "\n",
      "# go_plot([55.3, 56, 65, 65.3, 65.4, 68], \n",
      "#         ((0,1), (2,5)))\n",
      "\n",
      "go_plot([52.8, 55, 55.8, 57, 59.5, 65], \n",
      "        ((0,3), (1,4), (4,5)), arrow_voffset=.15, arrow_vgap=0.1)"
     ],
     "language": "python",
     "metadata": {},
     "outputs": [
      {
       "metadata": {},
       "output_type": "display_data",
       "png": "[encoded data removed]",
       "text": [
        "<matplotlib.figure.Figure at 0x1072c8090>"
       ]
      }
     ],
     "prompt_number": 56
    },
    {
     "cell_type": "code",
     "collapsed": false,
     "input": [],
     "language": "python",
     "metadata": {},
     "outputs": []
    }
   ],
   "metadata": {}
  }
 ]
}